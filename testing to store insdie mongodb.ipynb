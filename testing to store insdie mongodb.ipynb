{
 "cells": [
  {
   "cell_type": "code",
   "execution_count": 1,
   "id": "4fbee233",
   "metadata": {},
   "outputs": [],
   "source": [
    "import pandas as pd\n",
    "from pymongo import MongoClient\n"
   ]
  },
  {
   "cell_type": "code",
   "execution_count": 3,
   "id": "bd0bc399",
   "metadata": {},
   "outputs": [
    {
     "data": {
      "text/html": [
       "<div>\n",
       "<style scoped>\n",
       "    .dataframe tbody tr th:only-of-type {\n",
       "        vertical-align: middle;\n",
       "    }\n",
       "\n",
       "    .dataframe tbody tr th {\n",
       "        vertical-align: top;\n",
       "    }\n",
       "\n",
       "    .dataframe thead th {\n",
       "        text-align: right;\n",
       "    }\n",
       "</style>\n",
       "<table border=\"1\" class=\"dataframe\">\n",
       "  <thead>\n",
       "    <tr style=\"text-align: right;\">\n",
       "      <th></th>\n",
       "      <th>Name</th>\n",
       "      <th>Age</th>\n",
       "      <th>City</th>\n",
       "    </tr>\n",
       "  </thead>\n",
       "  <tbody>\n",
       "    <tr>\n",
       "      <th>0</th>\n",
       "      <td>John</td>\n",
       "      <td>28</td>\n",
       "      <td>New York</td>\n",
       "    </tr>\n",
       "    <tr>\n",
       "      <th>1</th>\n",
       "      <td>Alice</td>\n",
       "      <td>24</td>\n",
       "      <td>San Francisco</td>\n",
       "    </tr>\n",
       "    <tr>\n",
       "      <th>2</th>\n",
       "      <td>Bob</td>\n",
       "      <td>22</td>\n",
       "      <td>Los Angeles</td>\n",
       "    </tr>\n",
       "    <tr>\n",
       "      <th>3</th>\n",
       "      <td>Jane</td>\n",
       "      <td>25</td>\n",
       "      <td>Chicago</td>\n",
       "    </tr>\n",
       "  </tbody>\n",
       "</table>\n",
       "</div>"
      ],
      "text/plain": [
       "    Name  Age           City\n",
       "0   John   28       New York\n",
       "1  Alice   24  San Francisco\n",
       "2    Bob   22    Los Angeles\n",
       "3   Jane   25        Chicago"
      ]
     },
     "execution_count": 3,
     "metadata": {},
     "output_type": "execute_result"
    }
   ],
   "source": [
    "\n",
    "# Create a sample DataFrame\n",
    "data = {'Name': ['John', 'Alice', 'Bob', 'Jane'],\n",
    "        'Age': [28, 24, 22, 25],\n",
    "        'City': ['New York', 'San Francisco', 'Los Angeles', 'Chicago']}\n",
    "df = pd.DataFrame(data)\n",
    "\n",
    "df"
   ]
  },
  {
   "cell_type": "code",
   "execution_count": 4,
   "id": "350d687e",
   "metadata": {},
   "outputs": [],
   "source": [
    "\n",
    "\n",
    "# Connect to MongoDB\n",
    "client = MongoClient(\"mongodb://localhost:27017/\")\n",
    "\n",
    "\n"
   ]
  },
  {
   "cell_type": "code",
   "execution_count": 48,
   "id": "5ca27667",
   "metadata": {},
   "outputs": [],
   "source": [
    "# Replace \"your_database_name\" and \"your_collection_name\" with your desired names\n",
    "db = client[\"human\"]\n",
    "collection = db[\"human\"]"
   ]
  },
  {
   "cell_type": "code",
   "execution_count": 17,
   "id": "0ba26849",
   "metadata": {},
   "outputs": [],
   "source": [
    "records = df.to_dict(orient='records')\n",
    "records2 = df.to_dict()"
   ]
  },
  {
   "cell_type": "code",
   "execution_count": 20,
   "id": "3d9f36b6",
   "metadata": {},
   "outputs": [],
   "source": [
    "result = collection.insert_many(records)"
   ]
  },
  {
   "cell_type": "code",
   "execution_count": 25,
   "id": "e2eae0ba",
   "metadata": {},
   "outputs": [
    {
     "name": "stdout",
     "output_type": "stream",
     "text": [
      "['admin', 'config', 'human', 'local']\n"
     ]
    }
   ],
   "source": [
    "db_names = client.list_database_names()\n",
    "print(db_names)\n"
   ]
  },
  {
   "cell_type": "code",
   "execution_count": 51,
   "id": "1518bfa2",
   "metadata": {},
   "outputs": [
    {
     "name": "stdout",
     "output_type": "stream",
     "text": [
      "{'_id': ObjectId('644d7e3df5540acee0997f07'), 'Name': 'John', 'Age': 28, 'City': 'New York'}\n",
      "{'_id': ObjectId('644d7e3df5540acee0997f08'), 'Name': 'Alice', 'Age': 24, 'City': 'San Francisco'}\n",
      "{'_id': ObjectId('644d7e3df5540acee0997f09'), 'Name': 'Bob', 'Age': 22, 'City': 'Los Angeles'}\n",
      "{'_id': ObjectId('644d7e3df5540acee0997f0a'), 'Name': 'Jane', 'Age': 25, 'City': 'Chicago'}\n"
     ]
    }
   ],
   "source": [
    "for i in db.human.find():\n",
    "    print(i)"
   ]
  },
  {
   "cell_type": "code",
   "execution_count": null,
   "id": "574389ea",
   "metadata": {},
   "outputs": [],
   "source": []
  },
  {
   "cell_type": "code",
   "execution_count": 54,
   "id": "53ccf262",
   "metadata": {},
   "outputs": [
    {
     "data": {
      "text/html": [
       "<div>\n",
       "<style scoped>\n",
       "    .dataframe tbody tr th:only-of-type {\n",
       "        vertical-align: middle;\n",
       "    }\n",
       "\n",
       "    .dataframe tbody tr th {\n",
       "        vertical-align: top;\n",
       "    }\n",
       "\n",
       "    .dataframe thead th {\n",
       "        text-align: right;\n",
       "    }\n",
       "</style>\n",
       "<table border=\"1\" class=\"dataframe\">\n",
       "  <thead>\n",
       "    <tr style=\"text-align: right;\">\n",
       "      <th></th>\n",
       "      <th>_id</th>\n",
       "      <th>Name</th>\n",
       "      <th>Age</th>\n",
       "      <th>City</th>\n",
       "    </tr>\n",
       "  </thead>\n",
       "  <tbody>\n",
       "    <tr>\n",
       "      <th>0</th>\n",
       "      <td>644d7e3df5540acee0997f07</td>\n",
       "      <td>John</td>\n",
       "      <td>28</td>\n",
       "      <td>New York</td>\n",
       "    </tr>\n",
       "    <tr>\n",
       "      <th>1</th>\n",
       "      <td>644d7e3df5540acee0997f08</td>\n",
       "      <td>Alice</td>\n",
       "      <td>24</td>\n",
       "      <td>San Francisco</td>\n",
       "    </tr>\n",
       "    <tr>\n",
       "      <th>2</th>\n",
       "      <td>644d7e3df5540acee0997f09</td>\n",
       "      <td>Bob</td>\n",
       "      <td>22</td>\n",
       "      <td>Los Angeles</td>\n",
       "    </tr>\n",
       "    <tr>\n",
       "      <th>3</th>\n",
       "      <td>644d7e3df5540acee0997f0a</td>\n",
       "      <td>Jane</td>\n",
       "      <td>25</td>\n",
       "      <td>Chicago</td>\n",
       "    </tr>\n",
       "  </tbody>\n",
       "</table>\n",
       "</div>"
      ],
      "text/plain": [
       "                        _id   Name  Age           City\n",
       "0  644d7e3df5540acee0997f07   John   28       New York\n",
       "1  644d7e3df5540acee0997f08  Alice   24  San Francisco\n",
       "2  644d7e3df5540acee0997f09    Bob   22    Los Angeles\n",
       "3  644d7e3df5540acee0997f0a   Jane   25        Chicago"
      ]
     },
     "execution_count": 54,
     "metadata": {},
     "output_type": "execute_result"
    }
   ],
   "source": [
    "pd.DataFrame(db.human.find())"
   ]
  },
  {
   "cell_type": "code",
   "execution_count": 26,
   "id": "95082b87",
   "metadata": {},
   "outputs": [
    {
     "name": "stdout",
     "output_type": "stream",
     "text": [
      "['human']\n"
     ]
    }
   ],
   "source": [
    "collection_names = db.list_collection_names()\n",
    "print(collection_names)\n"
   ]
  },
  {
   "cell_type": "code",
   "execution_count": 24,
   "id": "733b7a12",
   "metadata": {},
   "outputs": [
    {
     "name": "stdout",
     "output_type": "stream",
     "text": [
      "Inserted 4 records\n"
     ]
    }
   ],
   "source": [
    "# Store the DataFrame in MongoDB\n",
    "print(f\"Inserted {len(result.inserted_ids)} records\")"
   ]
  },
  {
   "cell_type": "code",
   "execution_count": null,
   "id": "fb016b82",
   "metadata": {},
   "outputs": [],
   "source": []
  },
  {
   "cell_type": "code",
   "execution_count": null,
   "id": "5ebf49ca",
   "metadata": {},
   "outputs": [],
   "source": []
  }
 ],
 "metadata": {
  "kernelspec": {
   "display_name": "Python 3 (ipykernel)",
   "language": "python",
   "name": "python3"
  },
  "language_info": {
   "codemirror_mode": {
    "name": "ipython",
    "version": 3
   },
   "file_extension": ".py",
   "mimetype": "text/x-python",
   "name": "python",
   "nbconvert_exporter": "python",
   "pygments_lexer": "ipython3",
   "version": "3.9.12"
  }
 },
 "nbformat": 4,
 "nbformat_minor": 5
}
