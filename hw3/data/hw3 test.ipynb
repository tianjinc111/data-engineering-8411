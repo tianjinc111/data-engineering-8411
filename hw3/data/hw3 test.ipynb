{
 "cells": [
  {
   "cell_type": "code",
   "execution_count": 1,
   "id": "5927847f",
   "metadata": {},
   "outputs": [],
   "source": [
    "import requests\n",
    "import pandas as pd\n",
    "from sqlalchemy import create_engine\n",
    "from datetime import datetime, timedelta\n",
    "from polygon import RESTClient\n",
    "from sqlalchemy import inspect\n",
    "import numpy as np\n"
   ]
  },
  {
   "cell_type": "code",
   "execution_count": 2,
   "id": "a2b21c78",
   "metadata": {},
   "outputs": [
    {
     "name": "stderr",
     "output_type": "stream",
     "text": [
      "/var/folders/0b/j_4ztbtn3jv7jxjvy_fpqgrc0000gn/T/ipykernel_60007/2343674708.py:1: DtypeWarning: Columns (1) have mixed types. Specify dtype option on import or set low_memory=False.\n",
      "  EURPLN = pd.read_csv(\"EURPLN.csv\", parse_dates=['datetime'])\n",
      "/var/folders/0b/j_4ztbtn3jv7jxjvy_fpqgrc0000gn/T/ipykernel_60007/2343674708.py:4: DtypeWarning: Columns (1) have mixed types. Specify dtype option on import or set low_memory=False.\n",
      "  NZDUSD = pd.read_csv(\"NZDUSD.csv\", parse_dates=['datetime'])\n",
      "/var/folders/0b/j_4ztbtn3jv7jxjvy_fpqgrc0000gn/T/ipykernel_60007/2343674708.py:7: DtypeWarning: Columns (1) have mixed types. Specify dtype option on import or set low_memory=False.\n",
      "  USDDKK = pd.read_csv(\"USDDKK.csv\", parse_dates=['datetime'])\n"
     ]
    }
   ],
   "source": [
    "EURPLN = pd.read_csv(\"EURPLN.csv\", parse_dates=['datetime'])\n",
    "GBPCHF = pd.read_csv(\"GBPCHF.csv\", parse_dates=['datetime'])\n",
    "HKDJPY = pd.read_csv(\"HKDJPY.csv\", parse_dates=['datetime'])\n",
    "NZDUSD = pd.read_csv(\"NZDUSD.csv\", parse_dates=['datetime'])\n",
    "SGDJPY = pd.read_csv(\"SGDJPY.csv\", parse_dates=['datetime'])\n",
    "USDBRL = pd.read_csv(\"USDBRL.csv\", parse_dates=['datetime'])\n",
    "USDDKK = pd.read_csv(\"USDDKK.csv\", parse_dates=['datetime'])\n",
    "USDHKD = pd.read_csv(\"USDHKD.csv\", parse_dates=['datetime'])\n",
    "USDMXN = pd.read_csv(\"USDMXN.csv\", parse_dates=['datetime'])\n",
    "USDTRY = pd.read_csv(\"USDTRY.csv\", parse_dates=['datetime'])\n"
   ]
  },
  {
   "cell_type": "code",
   "execution_count": 3,
   "id": "591132c8",
   "metadata": {},
   "outputs": [],
   "source": [
    "def resample_data(df, start_date, end_date):\n",
    "    # Filter data by date range\n",
    "    data = df[(df['datetime'] >= start_date) & (df['datetime'] < end_date)]\n",
    "\n",
    "    data['price_times_transactions'] = data['vw'] * data['n']\n",
    "\n",
    "    # Group the data into the specified frequency intervals\n",
    "    grouped_data = data.groupby(pd.Grouper(key='datetime', freq='6H'))\n",
    "\n",
    "    # Calculate VWAP and Liquidity for each group\n",
    "    grouped_vwap = grouped_data['price_times_transactions'].sum() / grouped_data['n'].sum()\n",
    "    grouped_liquidity = grouped_data['n'].sum() / 6\n",
    "\n",
    "\n",
    "    grouped_vwap = grouped_vwap.fillna(0)\n",
    "    max_value = grouped_data['h'].max().fillna(0)\n",
    "    min_value = grouped_data['l'].min().fillna(0)\n",
    "\n",
    "    # Combine the results into a new DataFrame\n",
    "    resampled_df = pd.DataFrame({\n",
    "        'timestamp': grouped_vwap.index,\n",
    "        'vwap': grouped_vwap.values,\n",
    "        'liquidity': grouped_liquidity.values,\n",
    "        'max': max_value,\n",
    "        'min': min_value\n",
    "    })\n",
    "\n",
    "    resampled_df['volatility'] = (resampled_df['max'] - resampled_df['min']) / resampled_df['vwap']\n",
    "\n",
    "    return resampled_df\n"
   ]
  },
  {
   "cell_type": "code",
   "execution_count": 4,
   "id": "05eb7a98",
   "metadata": {},
   "outputs": [
    {
     "name": "stderr",
     "output_type": "stream",
     "text": [
      "/var/folders/0b/j_4ztbtn3jv7jxjvy_fpqgrc0000gn/T/ipykernel_60007/3558701289.py:5: SettingWithCopyWarning: \n",
      "A value is trying to be set on a copy of a slice from a DataFrame.\n",
      "Try using .loc[row_indexer,col_indexer] = value instead\n",
      "\n",
      "See the caveats in the documentation: https://pandas.pydata.org/pandas-docs/stable/user_guide/indexing.html#returning-a-view-versus-a-copy\n",
      "  data['price_times_transactions'] = data['vw'] * data['n']\n",
      "/var/folders/0b/j_4ztbtn3jv7jxjvy_fpqgrc0000gn/T/ipykernel_60007/3558701289.py:5: SettingWithCopyWarning: \n",
      "A value is trying to be set on a copy of a slice from a DataFrame.\n",
      "Try using .loc[row_indexer,col_indexer] = value instead\n",
      "\n",
      "See the caveats in the documentation: https://pandas.pydata.org/pandas-docs/stable/user_guide/indexing.html#returning-a-view-versus-a-copy\n",
      "  data['price_times_transactions'] = data['vw'] * data['n']\n",
      "/var/folders/0b/j_4ztbtn3jv7jxjvy_fpqgrc0000gn/T/ipykernel_60007/3558701289.py:5: SettingWithCopyWarning: \n",
      "A value is trying to be set on a copy of a slice from a DataFrame.\n",
      "Try using .loc[row_indexer,col_indexer] = value instead\n",
      "\n",
      "See the caveats in the documentation: https://pandas.pydata.org/pandas-docs/stable/user_guide/indexing.html#returning-a-view-versus-a-copy\n",
      "  data['price_times_transactions'] = data['vw'] * data['n']\n",
      "/var/folders/0b/j_4ztbtn3jv7jxjvy_fpqgrc0000gn/T/ipykernel_60007/3558701289.py:5: SettingWithCopyWarning: \n",
      "A value is trying to be set on a copy of a slice from a DataFrame.\n",
      "Try using .loc[row_indexer,col_indexer] = value instead\n",
      "\n",
      "See the caveats in the documentation: https://pandas.pydata.org/pandas-docs/stable/user_guide/indexing.html#returning-a-view-versus-a-copy\n",
      "  data['price_times_transactions'] = data['vw'] * data['n']\n",
      "/var/folders/0b/j_4ztbtn3jv7jxjvy_fpqgrc0000gn/T/ipykernel_60007/3558701289.py:5: SettingWithCopyWarning: \n",
      "A value is trying to be set on a copy of a slice from a DataFrame.\n",
      "Try using .loc[row_indexer,col_indexer] = value instead\n",
      "\n",
      "See the caveats in the documentation: https://pandas.pydata.org/pandas-docs/stable/user_guide/indexing.html#returning-a-view-versus-a-copy\n",
      "  data['price_times_transactions'] = data['vw'] * data['n']\n",
      "/var/folders/0b/j_4ztbtn3jv7jxjvy_fpqgrc0000gn/T/ipykernel_60007/3558701289.py:5: SettingWithCopyWarning: \n",
      "A value is trying to be set on a copy of a slice from a DataFrame.\n",
      "Try using .loc[row_indexer,col_indexer] = value instead\n",
      "\n",
      "See the caveats in the documentation: https://pandas.pydata.org/pandas-docs/stable/user_guide/indexing.html#returning-a-view-versus-a-copy\n",
      "  data['price_times_transactions'] = data['vw'] * data['n']\n",
      "/var/folders/0b/j_4ztbtn3jv7jxjvy_fpqgrc0000gn/T/ipykernel_60007/3558701289.py:5: SettingWithCopyWarning: \n",
      "A value is trying to be set on a copy of a slice from a DataFrame.\n",
      "Try using .loc[row_indexer,col_indexer] = value instead\n",
      "\n",
      "See the caveats in the documentation: https://pandas.pydata.org/pandas-docs/stable/user_guide/indexing.html#returning-a-view-versus-a-copy\n",
      "  data['price_times_transactions'] = data['vw'] * data['n']\n",
      "/var/folders/0b/j_4ztbtn3jv7jxjvy_fpqgrc0000gn/T/ipykernel_60007/3558701289.py:5: SettingWithCopyWarning: \n",
      "A value is trying to be set on a copy of a slice from a DataFrame.\n",
      "Try using .loc[row_indexer,col_indexer] = value instead\n",
      "\n",
      "See the caveats in the documentation: https://pandas.pydata.org/pandas-docs/stable/user_guide/indexing.html#returning-a-view-versus-a-copy\n",
      "  data['price_times_transactions'] = data['vw'] * data['n']\n",
      "/var/folders/0b/j_4ztbtn3jv7jxjvy_fpqgrc0000gn/T/ipykernel_60007/3558701289.py:5: SettingWithCopyWarning: \n",
      "A value is trying to be set on a copy of a slice from a DataFrame.\n",
      "Try using .loc[row_indexer,col_indexer] = value instead\n",
      "\n",
      "See the caveats in the documentation: https://pandas.pydata.org/pandas-docs/stable/user_guide/indexing.html#returning-a-view-versus-a-copy\n",
      "  data['price_times_transactions'] = data['vw'] * data['n']\n",
      "/var/folders/0b/j_4ztbtn3jv7jxjvy_fpqgrc0000gn/T/ipykernel_60007/3558701289.py:5: SettingWithCopyWarning: \n",
      "A value is trying to be set on a copy of a slice from a DataFrame.\n",
      "Try using .loc[row_indexer,col_indexer] = value instead\n",
      "\n",
      "See the caveats in the documentation: https://pandas.pydata.org/pandas-docs/stable/user_guide/indexing.html#returning-a-view-versus-a-copy\n",
      "  data['price_times_transactions'] = data['vw'] * data['n']\n"
     ]
    }
   ],
   "source": [
    "start_date = \"2022-01-01\"\n",
    "end_date = \"2023-01-01\"\n",
    "EURPLN = resample_data(EURPLN, start_date, end_date)\n",
    "GBPCHF = resample_data(GBPCHF, start_date, end_date)\n",
    "HKDJPY = resample_data(HKDJPY, start_date, end_date)\n",
    "NZDUSD = resample_data(NZDUSD, start_date, end_date)\n",
    "SGDJPY = resample_data(SGDJPY, start_date, end_date)\n",
    "USDBRL = resample_data(USDBRL, start_date, end_date)\n",
    "USDDKK = resample_data(USDDKK, start_date, end_date)\n",
    "USDHKD = resample_data(USDHKD, start_date, end_date)\n",
    "USDMXN = resample_data(USDMXN, start_date, end_date)\n",
    "USDTRY = resample_data(USDTRY, start_date, end_date)"
   ]
  },
  {
   "cell_type": "code",
   "execution_count": 5,
   "id": "7fd8d58b",
   "metadata": {},
   "outputs": [],
   "source": [
    "def calculate_fd_values(df):\n",
    "    fd_values = [0]\n",
    "    for idx in range(1, len(df)):\n",
    "        max_rate = df.iloc[idx - 1]['max']\n",
    "        min_rate = df.iloc[idx - 1]['min']\n",
    "        vol = df.iloc[idx - 1]['volatility']\n",
    "        mean_rate = df.iloc[idx - 1]['vwap']\n",
    "\n",
    "        keltner_upper = [mean_rate + n * 0.025 * vol for n in range(1, 101)]\n",
    "        keltner_lower = [mean_rate - n * 0.025 * vol for n in range(1, 101)]\n",
    "\n",
    "        prices = df.iloc[idx - 1:idx + 1]['vwap'].values\n",
    "\n",
    "        crosses = calculate_fd(prices, keltner_upper, keltner_lower)\n",
    "\n",
    "        fd = 0\n",
    "        if (max_rate - min_rate) != 0:\n",
    "            fd = crosses / (max_rate - min_rate)\n",
    "        elif crosses == 0:\n",
    "            fd = 0\n",
    "        else:\n",
    "            fd = 0\n",
    "\n",
    "        fd_values.append(fd)\n",
    "\n",
    "    df['fd'] = fd_values\n",
    "    return df\n",
    "\n",
    "\n",
    "def calculate_fd(prices, keltner_upper, keltner_lower):\n",
    "    crosses = 0\n",
    "    for i in range(1, len(prices)):\n",
    "        for upper, lower in zip(keltner_upper, keltner_lower):\n",
    "            if (prices[i - 1] < upper and prices[i] > upper) or (prices[i - 1] > lower and prices[i] < lower):\n",
    "                crosses += 1\n",
    "    return crosses"
   ]
  },
  {
   "cell_type": "code",
   "execution_count": null,
   "id": "cb643c46",
   "metadata": {},
   "outputs": [],
   "source": [
    "EURPLN = calculate_fd_values(EURPLN)\n",
    "GBPCHF = calculate_fd_values(GBPCHF)\n",
    "HKDJPY = calculate_fd_values(HKDJPY)\n",
    "NZDUSD = calculate_fd_values(NZDUSD)\n",
    "SGDJPY = calculate_fd_values(SGDJPY)\n",
    "USDBRL = calculate_fd_values(USDBRL)\n",
    "USDDKK = calculate_fd_values(USDDKK)\n",
    "USDHKD = calculate_fd_values(USDHKD)\n",
    "USDMXN = calculate_fd_values(USDMXN)\n",
    "USDTRY = calculate_fd_values(USDTRY)"
   ]
  },
  {
   "cell_type": "code",
   "execution_count": null,
   "id": "ccf1193f",
   "metadata": {},
   "outputs": [],
   "source": [
    "del EURPLN[\"timestamp\"]"
   ]
  },
  {
   "cell_type": "code",
   "execution_count": null,
   "id": "fa66b396",
   "metadata": {},
   "outputs": [],
   "source": [
    "EURPLN"
   ]
  },
  {
   "cell_type": "code",
   "execution_count": null,
   "id": "5fca07b4",
   "metadata": {},
   "outputs": [],
   "source": [
    "from pycaret.regression import *\n",
    "from sklearn.model_selection import train_test_split\n",
    "data = EURPLN.copy()\n",
    "data.dropna(inplace=True)\n",
    "data.reset_index(inplace = True)\n",
    "train_data, test_data = train_test_split(data, test_size=0.3, random_state=42)\n",
    "\n",
    "# Initialize the PyCaret setup for regression\n",
    "reg_setup = setup(data=train_data, target='fd')\n"
   ]
  },
  {
   "cell_type": "code",
   "execution_count": null,
   "id": "051bddcb",
   "metadata": {},
   "outputs": [],
   "source": [
    "\n",
    "\n",
    "# X = resampled_df[['vwap', 'liquidity', 'max', 'min', 'volatility']]\n",
    "# y = resampled_df['fd']\n",
    "\n",
    "# X_train, X_test, y_train, y_test = train_test_split(X, y, test_size=0.3, random_state=42)\n"
   ]
  },
  {
   "cell_type": "code",
   "execution_count": null,
   "id": "636579a1",
   "metadata": {},
   "outputs": [],
   "source": [
    "# from pycaret.regression import *\n",
    "\n",
    "# # Initialize the regression module\n",
    "# reg = setup(data= , target='fd')\n",
    "\n",
    "# # Compare different regression models\n",
    "# compare_models()\n",
    "\n",
    "# # Train a model\n",
    "# model = create_model('lr')\n",
    "\n",
    "# # Evaluate the model on the test set\n",
    "# predict_model(model, data=X_test)\n"
   ]
  },
  {
   "cell_type": "code",
   "execution_count": null,
   "id": "95719caa",
   "metadata": {},
   "outputs": [],
   "source": []
  }
 ],
 "metadata": {
  "kernelspec": {
   "display_name": "Python 3 (ipykernel)",
   "language": "python",
   "name": "python3"
  },
  "language_info": {
   "codemirror_mode": {
    "name": "ipython",
    "version": 3
   },
   "file_extension": ".py",
   "mimetype": "text/x-python",
   "name": "python",
   "nbconvert_exporter": "python",
   "pygments_lexer": "ipython3",
   "version": "3.9.12"
  }
 },
 "nbformat": 4,
 "nbformat_minor": 5
}
