{
 "cells": [
  {
   "cell_type": "code",
   "execution_count": 1,
   "id": "93e52984",
   "metadata": {},
   "outputs": [
    {
     "name": "stdout",
     "output_type": "stream",
     "text": [
      "              timestamp  fx_rate            entry_timestamp\n",
      "0   2023-03-30 00:00:00  1.08421 2023-04-01 01:38:00.546037\n",
      "1   2023-03-30 00:01:00  1.08404 2023-04-01 01:38:00.546037\n",
      "2   2023-03-30 00:02:00  1.08418 2023-04-01 01:38:00.546037\n",
      "3   2023-03-30 00:03:00  1.08412 2023-04-01 01:38:00.546037\n",
      "4   2023-03-30 00:04:00  1.08403 2023-04-01 01:38:00.546037\n",
      "..                  ...      ...                        ...\n",
      "115 2023-03-30 01:55:00  1.08323 2023-04-01 01:38:00.546037\n",
      "116 2023-03-30 01:56:00  1.08316 2023-04-01 01:38:00.546037\n",
      "117 2023-03-30 01:57:00  1.08314 2023-04-01 01:38:00.546037\n",
      "118 2023-03-30 01:58:00  1.08320 2023-04-01 01:38:00.546037\n",
      "119 2023-03-30 01:59:00  1.08316 2023-04-01 01:38:00.546037\n",
      "\n",
      "[120 rows x 3 columns]\n"
     ]
    }
   ],
   "source": [
    "import requests\n",
    "import pandas as pd\n",
    "from sqlalchemy import create_engine\n",
    "from datetime import datetime, timedelta\n",
    "from polygon import RESTClient\n",
    "from sqlalchemy import inspect\n",
    "\n",
    "api_key = \"beBybSi8daPgsTp5yx5cHtHpYcrjp5Jq\"\n",
    "client = RESTClient(api_key=api_key)\n",
    "\n",
    "# Define the currency pairs to use\n",
    "ticker = \"C:EURUSD\"\n",
    "\n",
    "\n",
    "# Create the SQLite database connection\n",
    "engine = create_engine('sqlite:///testing.db')\n",
    "\n",
    "date_from = \"2023-03-30\"\n",
    "date_to = \"2023-03-30\"\n",
    "fxdata = client.get_aggs(ticker=ticker, multiplier=1, timespan=\"minute\", from_=date_from, to=date_to)\n",
    "\n",
    "    # Filter for two consecutive hours\n",
    "df = pd.DataFrame([{\"timestamp\": fx.timestamp, \"fx_rate\": fx.close} for fx in fxdata])\n",
    "df['timestamp'] = pd.to_datetime(df['timestamp'], unit='ms')\n",
    "\n",
    "df = df[(df['timestamp'].dt.hour >= 0) & (df['timestamp'].dt.hour < 2)]\n",
    "\n",
    "\n",
    "df[\"entry_timestamp\"] = datetime.utcnow()\n",
    "\n",
    "    # store the dataframe into the sqllite databased, \n",
    "df.to_sql(f'{ticker[2:]}_data', engine, if_exists='replace', index=False)\n",
    "    \n",
    "print(df)"
   ]
  },
  {
   "cell_type": "code",
   "execution_count": 2,
   "id": "655cfc3b",
   "metadata": {},
   "outputs": [
    {
     "name": "stdout",
     "output_type": "stream",
     "text": [
      "EURUSD_data:                       timestamp  fx_rate             entry_timestamp\n",
      "0    2023-03-30 00:00:00.000000  1.08421  2023-04-01 01:38:00.546037\n",
      "1    2023-03-30 00:01:00.000000  1.08404  2023-04-01 01:38:00.546037\n",
      "2    2023-03-30 00:02:00.000000  1.08418  2023-04-01 01:38:00.546037\n",
      "3    2023-03-30 00:03:00.000000  1.08412  2023-04-01 01:38:00.546037\n",
      "4    2023-03-30 00:04:00.000000  1.08403  2023-04-01 01:38:00.546037\n",
      "..                          ...      ...                         ...\n",
      "115  2023-03-30 01:55:00.000000  1.08323  2023-04-01 01:38:00.546037\n",
      "116  2023-03-30 01:56:00.000000  1.08316  2023-04-01 01:38:00.546037\n",
      "117  2023-03-30 01:57:00.000000  1.08314  2023-04-01 01:38:00.546037\n",
      "118  2023-03-30 01:58:00.000000  1.08320  2023-04-01 01:38:00.546037\n",
      "119  2023-03-30 01:59:00.000000  1.08316  2023-04-01 01:38:00.546037\n",
      "\n",
      "[120 rows x 3 columns]\n",
      "EURUSD_data_average: 1.083556916666667\n"
     ]
    }
   ],
   "source": [
    "\n",
    "query = f'SELECT * FROM EURUSD_data'\n",
    "df_EURUSD_data = pd.read_sql_query(query, engine)\n",
    "print(f\"EURUSD_data: {df_EURUSD_data}\" )\n",
    "\n",
    "EURUSD_data_average = df_EURUSD_data['fx_rate'].mean()\n",
    "print(f\"EURUSD_data_average: {EURUSD_data_average}\")\n"
   ]
  },
  {
   "cell_type": "code",
   "execution_count": 3,
   "id": "5e56362b",
   "metadata": {},
   "outputs": [
    {
     "name": "stdout",
     "output_type": "stream",
     "text": [
      "              timestamp  fx_rate            entry_timestamp\n",
      "0   2023-03-30 00:00:00  1.35654 2023-04-01 01:38:00.855369\n",
      "1   2023-03-30 00:01:00  1.35662 2023-04-01 01:38:00.855369\n",
      "2   2023-03-30 00:02:00  1.35638 2023-04-01 01:38:00.855369\n",
      "3   2023-03-30 00:03:00  1.35640 2023-04-01 01:38:00.855369\n",
      "4   2023-03-30 00:04:00  1.35636 2023-04-01 01:38:00.855369\n",
      "..                  ...      ...                        ...\n",
      "115 2023-03-30 01:55:00  1.35756 2023-04-01 01:38:00.855369\n",
      "116 2023-03-30 01:56:00  1.35760 2023-04-01 01:38:00.855369\n",
      "117 2023-03-30 01:57:00  1.35765 2023-04-01 01:38:00.855369\n",
      "118 2023-03-30 01:58:00  1.35770 2023-04-01 01:38:00.855369\n",
      "119 2023-03-30 01:59:00  1.35765 2023-04-01 01:38:00.855369\n",
      "\n",
      "[120 rows x 3 columns]\n"
     ]
    }
   ],
   "source": [
    "\n",
    "\n",
    "\n",
    "ticker = \"C:USDCAD\"\n",
    "date_from = \"2023-03-30\"\n",
    "date_to = \"2023-03-30\"\n",
    "fxdata = client.get_aggs(ticker=ticker, multiplier=1, timespan=\"minute\", from_=date_from, to=date_to)\n",
    "\n",
    "    # Filter for two consecutive hours\n",
    "df = pd.DataFrame([{\"timestamp\": fx.timestamp, \"fx_rate\": fx.close} for fx in fxdata])\n",
    "df['timestamp'] = pd.to_datetime(df['timestamp'], unit='ms')\n",
    "\n",
    "df = df[(df['timestamp'].dt.hour >= 0) & (df['timestamp'].dt.hour < 2)]\n",
    "\n",
    "\n",
    "df[\"entry_timestamp\"] = datetime.utcnow()\n",
    "\n",
    "    # store the dataframe into the sqllite databased, \n",
    "df.to_sql(f'{ticker[2:]}_data', engine, if_exists='replace', index=False)\n",
    "    \n",
    "print(df)"
   ]
  },
  {
   "cell_type": "code",
   "execution_count": 4,
   "id": "4756fb82",
   "metadata": {},
   "outputs": [
    {
     "name": "stdout",
     "output_type": "stream",
     "text": [
      "USDCAD_data:                       timestamp  fx_rate             entry_timestamp\n",
      "0    2023-03-30 00:00:00.000000  1.35654  2023-04-01 01:38:00.855369\n",
      "1    2023-03-30 00:01:00.000000  1.35662  2023-04-01 01:38:00.855369\n",
      "2    2023-03-30 00:02:00.000000  1.35638  2023-04-01 01:38:00.855369\n",
      "3    2023-03-30 00:03:00.000000  1.35640  2023-04-01 01:38:00.855369\n",
      "4    2023-03-30 00:04:00.000000  1.35636  2023-04-01 01:38:00.855369\n",
      "..                          ...      ...                         ...\n",
      "115  2023-03-30 01:55:00.000000  1.35756  2023-04-01 01:38:00.855369\n",
      "116  2023-03-30 01:56:00.000000  1.35760  2023-04-01 01:38:00.855369\n",
      "117  2023-03-30 01:57:00.000000  1.35765  2023-04-01 01:38:00.855369\n",
      "118  2023-03-30 01:58:00.000000  1.35770  2023-04-01 01:38:00.855369\n",
      "119  2023-03-30 01:59:00.000000  1.35765  2023-04-01 01:38:00.855369\n",
      "\n",
      "[120 rows x 3 columns]\n",
      "USDCAD_data_average:  1.357061\n"
     ]
    }
   ],
   "source": [
    "\n",
    "query2 = f'SELECT * FROM USDCAD_data'\n",
    "df_USDCAD_data = pd.read_sql_query(query2, engine)\n",
    "print(f\"USDCAD_data: {df_USDCAD_data}\")\n",
    "USDCAD_data_average = df_USDCAD_data['fx_rate'].mean()\n",
    "print(f'USDCAD_data_average:  {USDCAD_data_average}')"
   ]
  },
  {
   "cell_type": "code",
   "execution_count": 5,
   "id": "c75d146a",
   "metadata": {},
   "outputs": [
    {
     "name": "stdout",
     "output_type": "stream",
     "text": [
      "              timestamp  fx_rate            entry_timestamp\n",
      "0   2023-03-30 00:00:00  0.91827 2023-04-01 01:38:01.114053\n",
      "1   2023-03-30 00:01:00  0.91834 2023-04-01 01:38:01.114053\n",
      "2   2023-03-30 00:02:00  0.91824 2023-04-01 01:38:01.114053\n",
      "3   2023-03-30 00:03:00  0.91830 2023-04-01 01:38:01.114053\n",
      "4   2023-03-30 00:04:00  0.91839 2023-04-01 01:38:01.114053\n",
      "..                  ...      ...                        ...\n",
      "115 2023-03-30 01:55:00  0.91924 2023-04-01 01:38:01.114053\n",
      "116 2023-03-30 01:56:00  0.91929 2023-04-01 01:38:01.114053\n",
      "117 2023-03-30 01:57:00  0.91934 2023-04-01 01:38:01.114053\n",
      "118 2023-03-30 01:58:00  0.91934 2023-04-01 01:38:01.114053\n",
      "119 2023-03-30 01:59:00  0.91928 2023-04-01 01:38:01.114053\n",
      "\n",
      "[120 rows x 3 columns]\n"
     ]
    }
   ],
   "source": [
    "\n",
    "\n",
    "\n",
    "ticker = \"C:USDCHF\"\n",
    "date_from = \"2023-03-30\"\n",
    "date_to = \"2023-03-30\"\n",
    "fxdata = client.get_aggs(ticker=ticker, multiplier=1, timespan=\"minute\", from_=date_from, to=date_to)\n",
    "\n",
    "    # Filter for two consecutive hours\n",
    "df = pd.DataFrame([{\"timestamp\": fx.timestamp, \"fx_rate\": fx.close} for fx in fxdata])\n",
    "df['timestamp'] = pd.to_datetime(df['timestamp'], unit='ms')\n",
    "\n",
    "df = df[(df['timestamp'].dt.hour >= 0) & (df['timestamp'].dt.hour < 2)]\n",
    "\n",
    "\n",
    "df[\"entry_timestamp\"] = datetime.utcnow()\n",
    "\n",
    "    # store the dataframe into the sqllite databased, \n",
    "df.to_sql(f'{ticker[2:]}_data', engine, if_exists='replace', index=False)\n",
    "    \n",
    "print(df)"
   ]
  },
  {
   "cell_type": "code",
   "execution_count": 6,
   "id": "d6ba56f5",
   "metadata": {},
   "outputs": [
    {
     "name": "stdout",
     "output_type": "stream",
     "text": [
      "USDCHF_data:                       timestamp  fx_rate             entry_timestamp\n",
      "0    2023-03-30 00:00:00.000000  0.91827  2023-04-01 01:38:01.114053\n",
      "1    2023-03-30 00:01:00.000000  0.91834  2023-04-01 01:38:01.114053\n",
      "2    2023-03-30 00:02:00.000000  0.91824  2023-04-01 01:38:01.114053\n",
      "3    2023-03-30 00:03:00.000000  0.91830  2023-04-01 01:38:01.114053\n",
      "4    2023-03-30 00:04:00.000000  0.91839  2023-04-01 01:38:01.114053\n",
      "..                          ...      ...                         ...\n",
      "115  2023-03-30 01:55:00.000000  0.91924  2023-04-01 01:38:01.114053\n",
      "116  2023-03-30 01:56:00.000000  0.91929  2023-04-01 01:38:01.114053\n",
      "117  2023-03-30 01:57:00.000000  0.91934  2023-04-01 01:38:01.114053\n",
      "118  2023-03-30 01:58:00.000000  0.91934  2023-04-01 01:38:01.114053\n",
      "119  2023-03-30 01:59:00.000000  0.91928  2023-04-01 01:38:01.114053\n",
      "\n",
      "[120 rows x 3 columns]\n",
      "USDCHF_data_average:  0.9190992416666667\n"
     ]
    }
   ],
   "source": [
    "query3 = f'SELECT * FROM USDCHF_data'\n",
    "df_USDCHF_data = pd.read_sql_query(query3, engine)\n",
    "print(f\"USDCHF_data: {df_USDCHF_data}\" )\n",
    "\n",
    "USDCHF_data_average = df_USDCHF_data['fx_rate'].mean()\n",
    "print(f'USDCHF_data_average:  {USDCHF_data_average}')\n",
    "\n"
   ]
  },
  {
   "cell_type": "code",
   "execution_count": null,
   "id": "c88f93e5",
   "metadata": {},
   "outputs": [],
   "source": []
  }
 ],
 "metadata": {
  "kernelspec": {
   "display_name": "Python 3 (ipykernel)",
   "language": "python",
   "name": "python3"
  },
  "language_info": {
   "codemirror_mode": {
    "name": "ipython",
    "version": 3
   },
   "file_extension": ".py",
   "mimetype": "text/x-python",
   "name": "python",
   "nbconvert_exporter": "python",
   "pygments_lexer": "ipython3",
   "version": "3.9.12"
  }
 },
 "nbformat": 4,
 "nbformat_minor": 5
}
