{
 "cells": [
  {
   "cell_type": "markdown",
   "id": "92c34882-89e0-4daa-810a-d975179f498a",
   "metadata": {},
   "source": [
    "# Importing Packages and Setting Parameters"
   ]
  },
  {
   "cell_type": "code",
   "execution_count": 1,
   "id": "4cdcdc7f-0aad-4e93-84c2-46ceb7ef6f60",
   "metadata": {},
   "outputs": [],
   "source": [
    "import oandapyV20\n",
    "import oandapyV20.endpoints.orders as orders\n",
    "import oandapyV20.endpoints.pricing as pricing\n",
    "from oandapyV20.contrib.requests import MarketOrderRequest\n",
    "from oandapyV20 import API\n",
    "from oandapyV20.exceptions import V20Error\n",
    "import pandas as pd\n",
    "import datetime as dt\n",
    "import time\n",
    "from datetime import datetime"
   ]
  },
  {
   "cell_type": "code",
   "execution_count": 2,
   "id": "58303c2a-0bae-4f6c-8511-4289c08ddc15",
   "metadata": {},
   "outputs": [],
   "source": [
    "# OANDA account details\n",
    "access_token = \"8652b0f932f8e4ae75fcbdbef4b1d695-a5d3f26be1b9d9015d0930affdee7bf3\"\n",
    "accountID = \"101-001-25533615-002\"\n",
    "#api = oandapyV20.API(access_token=access_token, environment=\"practice\")\n",
    "try:\n",
    "    client = oandapyV20.API(access_token=access_token, environment=\"practice\")\n",
    "except V20Error as e:\n",
    "    print(\"Error: {}\".format(e))"
   ]
  },
  {
   "cell_type": "code",
   "execution_count": 3,
   "id": "bdc4bb53-1cf1-4953-86a6-8740fd2ef9db",
   "metadata": {},
   "outputs": [],
   "source": [
    "# specify the instrument to trade\n",
    "instrument = \"USD_CAD\""
   ]
  },
  {
   "cell_type": "code",
   "execution_count": null,
   "id": "b34c8933-c5f8-49f3-8ae3-6c71777ed927",
   "metadata": {},
   "outputs": [],
   "source": [
    "# set the order parameters\n",
    "order_quantity = 10000 # start with 10k units\n",
    "total_order_quantity = 1000000 # the total order quantity\n",
    "current_executed_quantity = 0 # keep track of how many units have been executed so far\n",
    "non_executed_quantity = 0 # keep track of the units that were not executed in the previous window\n",
    "average_execution_price = 0 # initialize the average execution price to 0\n",
    "total_average_execution_price = 0 # initialize the total average execution price to 0\n",
    "\n",
    "# setting the required time frames\n",
    "first_execution_start_time = dt.datetime.now().replace(hour=16, minute=30, second=0, microsecond=0)\n",
    "first_execution_end_time = dt.datetime.now().replace(hour=18, minute=30, second=0, microsecond=0)\n",
    "\n",
    "second_execution_start_time = dt.datetime.now().replace(hour=19, minute=0, second=0, microsecond=0)\n",
    "second_execution_end_time = dt.datetime.now().replace(hour=22, minute=0, second=0, microsecond=0)\n",
    "\n",
    "third_execution_start_time = dt.datetime.now().replace(hour=23, minute=0, second=0, microsecond=0)\n",
    "third_execution_end_time = dt.datetime.now().replace(hour=1, minute=0, second=0, microsecond=0) + dt.timedelta(days=1) # add one day to the end time\n",
    "\n",
    "fourth_execution_start_time = dt.datetime.now().replace(hour=3, minute=0, second=0, microsecond=0) #+ dt.timedelta(days=1) # add one day to the start time\n",
    "fourth_execution_end_time = dt.datetime.now().replace(hour=6, minute=0, second=0, microsecond=0) #+ dt.timedelta(days=1) # add one day to the end time"
   ]
  },
  {
   "cell_type": "code",
   "execution_count": 5,
   "id": "e0e9a401-4f57-4a89-ba28-e6b5b2caee08",
   "metadata": {},
   "outputs": [],
   "source": [
    "# define a function to execute orders\n",
    "def execute_order(quantity, trades):\n",
    "    # create a market order request\n",
    "    mo = MarketOrderRequest(\n",
    "        instrument=instrument,\n",
    "        units=-quantity,\n",
    "        takeProfitOnFill=None,\n",
    "        stopLossOnFill=None\n",
    "    )\n",
    "    # send the order request\n",
    "    r = orders.OrderCreate(accountID, data=mo.data)\n",
    "    response = client.request(r)\n",
    "    if \"orderFillTransaction\" in response:\n",
    "        trades.append({\n",
    "            \"Timestamp\": dt.datetime.now(), \n",
    "            \"Order_ID\": float(response[\"orderFillTransaction\"][\"orderID\"]),\n",
    "            \"Instrument\": instrument,\n",
    "            \"Price\": float(response[\"orderFillTransaction\"][\"price\"]),\n",
    "        })\n",
    "    else:\n",
    "        # Handle the case where the order is not filled\n",
    "        if \"orderCancelTransaction\" in response:\n",
    "            print(\"Order canceled due to:\", response[\"orderCancelTransaction\"][\"reason\"])\n",
    "        else:\n",
    "            print(\"No cancel transaction found.\")"
   ]
  },
  {
   "cell_type": "code",
   "execution_count": 6,
   "id": "3e21fdcc-34be-406e-acfb-d16f55ec42e3",
   "metadata": {},
   "outputs": [],
   "source": [
    "# make a function to get price that can be used to compare with the average price before execution takes place\n",
    "def get_rate():\n",
    "    price_request = pricing.PricingInfo(accountID=accountID, params={'instruments': instrument})\n",
    "    response = client.request(price_request)\n",
    "    return float(response['prices'][0]['asks'][0]['price'])"
   ]
  },
  {
   "cell_type": "markdown",
   "id": "875b3cc5-53e7-4851-b144-6f157a1930db",
   "metadata": {},
   "source": [
    "# First Interval"
   ]
  },
  {
   "cell_type": "code",
   "execution_count": 7,
   "id": "110593ba-1d7a-4b0f-8a49-c5b4cb77d6e3",
   "metadata": {},
   "outputs": [
    {
     "name": "stdout",
     "output_type": "stream",
     "text": [
      "Successful execution for 0 th interval\n",
      "Successful execution for 1 th interval\n",
      "Successful execution for 2 th interval\n",
      "Successful execution for 3 th interval\n",
      "Successful execution for 4 th interval\n",
      "Order canceled due to: MARKET_HALTED\n",
      "Successful execution for 5 th interval\n",
      "Successful execution for 6 th interval\n",
      "Successful execution for 7 th interval\n",
      "Successful execution for 8 th interval\n",
      "Successful execution for 9 th interval\n",
      "Successful execution for 10 th interval\n",
      "Successful execution for 11 th interval\n",
      "Successful execution for 12 th interval\n",
      "Successful execution for 13 th interval\n",
      "Successful execution for 14 th interval\n",
      "Successful execution for 15 th interval\n",
      "Successful execution for 16 th interval\n",
      "Successful execution for 17 th interval\n",
      "Successful execution for 18 th interval\n",
      "Successful execution for 19 th interval\n"
     ]
    }
   ],
   "source": [
    "# execute the first window\n",
    "while dt.datetime.now() < first_execution_start_time:\n",
    "    time.sleep(1)\n",
    "\n",
    "batch1_prices = []  # create a list to store the prices\n",
    "while dt.datetime.now() >= first_execution_start_time and dt.datetime.now() <= first_execution_end_time:\n",
    "    for i in range(20): # 20 iterations to execute 10k units every 6 minutes\n",
    "        if current_executed_quantity < total_order_quantity * 0.2:       \n",
    "            response = execute_order(order_quantity, batch1_prices)\n",
    "            current_executed_quantity += order_quantity\n",
    "        else:\n",
    "            break\n",
    "        time.sleep(360) # wait for 6 minutes between orders\n",
    "        print(\"Successful execution for\", i, \"th interval\")"
   ]
  },
  {
   "cell_type": "code",
   "execution_count": 8,
   "id": "0961f976-9242-48f3-b339-9c81efeacfb2",
   "metadata": {},
   "outputs": [],
   "source": [
    "# convert the list of prices into a DataFrame\n",
    "df1 = pd.DataFrame(batch1_prices)"
   ]
  },
  {
   "cell_type": "code",
   "execution_count": 9,
   "id": "aa08f99c-a837-4b2f-8d49-ff60ca6c10ac",
   "metadata": {},
   "outputs": [
    {
     "data": {
      "text/html": [
       "<div>\n",
       "<style scoped>\n",
       "    .dataframe tbody tr th:only-of-type {\n",
       "        vertical-align: middle;\n",
       "    }\n",
       "\n",
       "    .dataframe tbody tr th {\n",
       "        vertical-align: top;\n",
       "    }\n",
       "\n",
       "    .dataframe thead th {\n",
       "        text-align: right;\n",
       "    }\n",
       "</style>\n",
       "<table border=\"1\" class=\"dataframe\">\n",
       "  <thead>\n",
       "    <tr style=\"text-align: right;\">\n",
       "      <th></th>\n",
       "      <th>Timestamp</th>\n",
       "      <th>Order_ID</th>\n",
       "      <th>Instrument</th>\n",
       "      <th>Price</th>\n",
       "    </tr>\n",
       "  </thead>\n",
       "  <tbody>\n",
       "    <tr>\n",
       "      <th>0</th>\n",
       "      <td>2023-04-27 16:30:02.566445</td>\n",
       "      <td>218.0</td>\n",
       "      <td>USD_CAD</td>\n",
       "      <td>1.35918</td>\n",
       "    </tr>\n",
       "    <tr>\n",
       "      <th>1</th>\n",
       "      <td>2023-04-27 16:36:02.680576</td>\n",
       "      <td>224.0</td>\n",
       "      <td>USD_CAD</td>\n",
       "      <td>1.35926</td>\n",
       "    </tr>\n",
       "    <tr>\n",
       "      <th>2</th>\n",
       "      <td>2023-04-27 16:42:02.752613</td>\n",
       "      <td>230.0</td>\n",
       "      <td>USD_CAD</td>\n",
       "      <td>1.35919</td>\n",
       "    </tr>\n",
       "    <tr>\n",
       "      <th>3</th>\n",
       "      <td>2023-04-27 16:48:02.820869</td>\n",
       "      <td>236.0</td>\n",
       "      <td>USD_CAD</td>\n",
       "      <td>1.35920</td>\n",
       "    </tr>\n",
       "    <tr>\n",
       "      <th>4</th>\n",
       "      <td>2023-04-27 16:54:02.889666</td>\n",
       "      <td>242.0</td>\n",
       "      <td>USD_CAD</td>\n",
       "      <td>1.35900</td>\n",
       "    </tr>\n",
       "    <tr>\n",
       "      <th>5</th>\n",
       "      <td>2023-04-27 17:06:10.464852</td>\n",
       "      <td>250.0</td>\n",
       "      <td>USD_CAD</td>\n",
       "      <td>1.35891</td>\n",
       "    </tr>\n",
       "    <tr>\n",
       "      <th>6</th>\n",
       "      <td>2023-04-27 17:12:10.608167</td>\n",
       "      <td>258.0</td>\n",
       "      <td>USD_CAD</td>\n",
       "      <td>1.35897</td>\n",
       "    </tr>\n",
       "    <tr>\n",
       "      <th>7</th>\n",
       "      <td>2023-04-27 17:18:10.694996</td>\n",
       "      <td>264.0</td>\n",
       "      <td>USD_CAD</td>\n",
       "      <td>1.35896</td>\n",
       "    </tr>\n",
       "    <tr>\n",
       "      <th>8</th>\n",
       "      <td>2023-04-27 17:24:10.791740</td>\n",
       "      <td>268.0</td>\n",
       "      <td>USD_CAD</td>\n",
       "      <td>1.35899</td>\n",
       "    </tr>\n",
       "    <tr>\n",
       "      <th>9</th>\n",
       "      <td>2023-04-27 17:30:10.859788</td>\n",
       "      <td>274.0</td>\n",
       "      <td>USD_CAD</td>\n",
       "      <td>1.35907</td>\n",
       "    </tr>\n",
       "    <tr>\n",
       "      <th>10</th>\n",
       "      <td>2023-04-27 17:36:10.979329</td>\n",
       "      <td>282.0</td>\n",
       "      <td>USD_CAD</td>\n",
       "      <td>1.35916</td>\n",
       "    </tr>\n",
       "    <tr>\n",
       "      <th>11</th>\n",
       "      <td>2023-04-27 17:42:11.105627</td>\n",
       "      <td>286.0</td>\n",
       "      <td>USD_CAD</td>\n",
       "      <td>1.35920</td>\n",
       "    </tr>\n",
       "    <tr>\n",
       "      <th>12</th>\n",
       "      <td>2023-04-27 17:48:11.193034</td>\n",
       "      <td>292.0</td>\n",
       "      <td>USD_CAD</td>\n",
       "      <td>1.35907</td>\n",
       "    </tr>\n",
       "    <tr>\n",
       "      <th>13</th>\n",
       "      <td>2023-04-27 17:54:11.318355</td>\n",
       "      <td>300.0</td>\n",
       "      <td>USD_CAD</td>\n",
       "      <td>1.35893</td>\n",
       "    </tr>\n",
       "    <tr>\n",
       "      <th>14</th>\n",
       "      <td>2023-04-27 18:00:11.405977</td>\n",
       "      <td>306.0</td>\n",
       "      <td>USD_CAD</td>\n",
       "      <td>1.35911</td>\n",
       "    </tr>\n",
       "    <tr>\n",
       "      <th>15</th>\n",
       "      <td>2023-04-27 18:06:11.509259</td>\n",
       "      <td>312.0</td>\n",
       "      <td>USD_CAD</td>\n",
       "      <td>1.35932</td>\n",
       "    </tr>\n",
       "    <tr>\n",
       "      <th>16</th>\n",
       "      <td>2023-04-27 18:12:11.611047</td>\n",
       "      <td>316.0</td>\n",
       "      <td>USD_CAD</td>\n",
       "      <td>1.35926</td>\n",
       "    </tr>\n",
       "    <tr>\n",
       "      <th>17</th>\n",
       "      <td>2023-04-27 18:18:11.689487</td>\n",
       "      <td>324.0</td>\n",
       "      <td>USD_CAD</td>\n",
       "      <td>1.35935</td>\n",
       "    </tr>\n",
       "    <tr>\n",
       "      <th>18</th>\n",
       "      <td>2023-04-27 18:24:11.790491</td>\n",
       "      <td>328.0</td>\n",
       "      <td>USD_CAD</td>\n",
       "      <td>1.35936</td>\n",
       "    </tr>\n",
       "  </tbody>\n",
       "</table>\n",
       "</div>"
      ],
      "text/plain": [
       "                    Timestamp  Order_ID Instrument    Price\n",
       "0  2023-04-27 16:30:02.566445     218.0    USD_CAD  1.35918\n",
       "1  2023-04-27 16:36:02.680576     224.0    USD_CAD  1.35926\n",
       "2  2023-04-27 16:42:02.752613     230.0    USD_CAD  1.35919\n",
       "3  2023-04-27 16:48:02.820869     236.0    USD_CAD  1.35920\n",
       "4  2023-04-27 16:54:02.889666     242.0    USD_CAD  1.35900\n",
       "5  2023-04-27 17:06:10.464852     250.0    USD_CAD  1.35891\n",
       "6  2023-04-27 17:12:10.608167     258.0    USD_CAD  1.35897\n",
       "7  2023-04-27 17:18:10.694996     264.0    USD_CAD  1.35896\n",
       "8  2023-04-27 17:24:10.791740     268.0    USD_CAD  1.35899\n",
       "9  2023-04-27 17:30:10.859788     274.0    USD_CAD  1.35907\n",
       "10 2023-04-27 17:36:10.979329     282.0    USD_CAD  1.35916\n",
       "11 2023-04-27 17:42:11.105627     286.0    USD_CAD  1.35920\n",
       "12 2023-04-27 17:48:11.193034     292.0    USD_CAD  1.35907\n",
       "13 2023-04-27 17:54:11.318355     300.0    USD_CAD  1.35893\n",
       "14 2023-04-27 18:00:11.405977     306.0    USD_CAD  1.35911\n",
       "15 2023-04-27 18:06:11.509259     312.0    USD_CAD  1.35932\n",
       "16 2023-04-27 18:12:11.611047     316.0    USD_CAD  1.35926\n",
       "17 2023-04-27 18:18:11.689487     324.0    USD_CAD  1.35935\n",
       "18 2023-04-27 18:24:11.790491     328.0    USD_CAD  1.35936"
      ]
     },
     "execution_count": 9,
     "metadata": {},
     "output_type": "execute_result"
    }
   ],
   "source": [
    "df1"
   ]
  },
  {
   "cell_type": "code",
   "execution_count": 10,
   "id": "e6ae841c-d695-4fe6-b338-6b12becac43e",
   "metadata": {},
   "outputs": [],
   "source": [
    "average_execution_price1 = df1['Price'].sum() / len(df1)"
   ]
  },
  {
   "cell_type": "code",
   "execution_count": 11,
   "id": "a0e24e08-6b96-452b-87d7-dfabef802890",
   "metadata": {},
   "outputs": [
    {
     "data": {
      "text/plain": [
       "1.3591310526315787"
      ]
     },
     "execution_count": 11,
     "metadata": {},
     "output_type": "execute_result"
    }
   ],
   "source": [
    "average_execution_price1"
   ]
  },
  {
   "cell_type": "code",
   "execution_count": 12,
   "id": "a5861cbc-8850-44d5-8b1c-7d049732ebef",
   "metadata": {},
   "outputs": [
    {
     "data": {
      "text/plain": [
       "200000"
      ]
     },
     "execution_count": 12,
     "metadata": {},
     "output_type": "execute_result"
    }
   ],
   "source": [
    "current_executed_quantity"
   ]
  },
  {
   "cell_type": "code",
   "execution_count": 13,
   "id": "88a2a34a-cc4b-441c-8c12-a1192e33a4ac",
   "metadata": {},
   "outputs": [],
   "source": [
    "df1.to_csv(\"Short_Interval_1.csv\", index=False)"
   ]
  },
  {
   "cell_type": "markdown",
   "id": "2e7857ae-4508-4594-bf2e-eac3d1018295",
   "metadata": {},
   "source": [
    "# Second Interval"
   ]
  },
  {
   "cell_type": "code",
   "execution_count": 14,
   "id": "0573070b-7ae6-4d22-b9df-d560cf5349bc",
   "metadata": {},
   "outputs": [
    {
     "name": "stdout",
     "output_type": "stream",
     "text": [
      "Price is more than average price\n",
      "Successful execution for 0 th interval\n",
      "Price is more than average price\n",
      "Successful execution for 1 th interval\n",
      "Price is more than average price\n",
      "Successful execution for 2 th interval\n",
      "Price is more than average price\n",
      "Successful execution for 3 th interval\n",
      "Price is more than average price\n",
      "Successful execution for 4 th interval\n",
      "Price is more than average price\n",
      "Successful execution for 5 th interval\n",
      "Price is more than average price\n",
      "Successful execution for 6 th interval\n",
      "Price is more than average price\n",
      "Successful execution for 7 th interval\n",
      "Price is more than average price\n",
      "Successful execution for 8 th interval\n",
      "Price is more than average price\n",
      "Successful execution for 9 th interval\n",
      "Price is more than average price\n",
      "Successful execution for 10 th interval\n",
      "Price is more than average price\n",
      "Successful execution for 11 th interval\n",
      "Price is more than average price\n",
      "Successful execution for 12 th interval\n",
      "Price is more than average price\n",
      "Successful execution for 13 th interval\n",
      "Price is more than average price\n",
      "Successful execution for 14 th interval\n",
      "Price is more than average price\n",
      "Successful execution for 15 th interval\n",
      "Price is more than average price\n",
      "Successful execution for 16 th interval\n",
      "Price is more than average price\n",
      "Successful execution for 17 th interval\n",
      "Price is more than average price\n",
      "Successful execution for 18 th interval\n",
      "Price is more than average price\n",
      "Successful execution for 19 th interval\n",
      "Price is more than average price\n",
      "Successful execution for 20 th interval\n",
      "Price is more than average price\n",
      "Successful execution for 21 th interval\n",
      "Price is more than average price\n",
      "Successful execution for 22 th interval\n",
      "Price is more than average price\n",
      "Successful execution for 23 th interval\n",
      "Price is more than average price\n",
      "Successful execution for 24 th interval\n",
      "Price is more than average price\n",
      "Successful execution for 25 th interval\n",
      "Price is more than average price\n",
      "Successful execution for 26 th interval\n",
      "Price is more than average price\n",
      "Successful execution for 27 th interval\n",
      "Price is more than average price\n",
      "Successful execution for 28 th interval\n",
      "Price is more than average price\n",
      "Successful execution for 29 th interval\n"
     ]
    }
   ],
   "source": [
    "# execute the second window\n",
    "while dt.datetime.now() < second_execution_start_time:\n",
    "    time.sleep(1)\n",
    "\n",
    "batch2_prices = []  # create a list to store the prices\n",
    "\n",
    "while dt.datetime.now() >= second_execution_start_time and dt.datetime.now() <= second_execution_end_time:\n",
    "    for i in range(30): # 30 iterations to execute 10k units every 6 minutes\n",
    "        if current_executed_quantity < total_order_quantity * 0.5:\n",
    "            if get_rate() <= average_execution_price1:\n",
    "                execute_order(order_quantity, batch2_prices)\n",
    "                current_executed_quantity += order_quantity\n",
    "                \n",
    "            else:\n",
    "                print(\"Price is more than average price\")\n",
    "        else:\n",
    "            break\n",
    "        time.sleep(360) # wait for 6 minutes between orders\n",
    "        print(\"Successful execution for\", i, \"th interval\")"
   ]
  },
  {
   "cell_type": "code",
   "execution_count": 15,
   "id": "6a226cdb-4176-4bd8-8833-2170790a235e",
   "metadata": {},
   "outputs": [],
   "source": [
    "# convert the list of prices into a DataFrame\n",
    "df2 = pd.DataFrame(batch2_prices)"
   ]
  },
  {
   "cell_type": "code",
   "execution_count": 16,
   "id": "c6960f61-7e79-4ea7-9209-72cfca5a2513",
   "metadata": {},
   "outputs": [
    {
     "data": {
      "text/html": [
       "<div>\n",
       "<style scoped>\n",
       "    .dataframe tbody tr th:only-of-type {\n",
       "        vertical-align: middle;\n",
       "    }\n",
       "\n",
       "    .dataframe tbody tr th {\n",
       "        vertical-align: top;\n",
       "    }\n",
       "\n",
       "    .dataframe thead th {\n",
       "        text-align: right;\n",
       "    }\n",
       "</style>\n",
       "<table border=\"1\" class=\"dataframe\">\n",
       "  <thead>\n",
       "    <tr style=\"text-align: right;\">\n",
       "      <th></th>\n",
       "    </tr>\n",
       "  </thead>\n",
       "  <tbody>\n",
       "  </tbody>\n",
       "</table>\n",
       "</div>"
      ],
      "text/plain": [
       "Empty DataFrame\n",
       "Columns: []\n",
       "Index: []"
      ]
     },
     "execution_count": 16,
     "metadata": {},
     "output_type": "execute_result"
    }
   ],
   "source": [
    "df2"
   ]
  },
  {
   "cell_type": "code",
   "execution_count": 17,
   "id": "2a4e3c67-fdc1-40d6-8dd3-187bb6811120",
   "metadata": {},
   "outputs": [],
   "source": [
    "# concatenate the two dataframes vertically\n",
    "new_df = pd.concat([df1, df2], axis=0)"
   ]
  },
  {
   "cell_type": "code",
   "execution_count": 18,
   "id": "caf3e673-eec2-4cfd-bbb8-1a5f0e0e2d50",
   "metadata": {},
   "outputs": [
    {
     "data": {
      "text/plain": [
       "1.3591310526315787"
      ]
     },
     "execution_count": 18,
     "metadata": {},
     "output_type": "execute_result"
    }
   ],
   "source": [
    "# calculate the total average execution price\n",
    "average_execution_price2 = new_df['Price'].sum() / len(new_df)\n",
    "\n",
    "average_execution_price2"
   ]
  },
  {
   "cell_type": "code",
   "execution_count": 19,
   "id": "78e53e07-b970-435b-a74d-19ffb3407c34",
   "metadata": {},
   "outputs": [
    {
     "data": {
      "text/plain": [
       "200000"
      ]
     },
     "execution_count": 19,
     "metadata": {},
     "output_type": "execute_result"
    }
   ],
   "source": [
    "current_executed_quantity"
   ]
  },
  {
   "cell_type": "code",
   "execution_count": 20,
   "id": "5f8c4058-1ba1-4a23-91b7-78f3b80cf1ff",
   "metadata": {},
   "outputs": [
    {
     "data": {
      "text/plain": [
       "100000.0"
      ]
     },
     "execution_count": 20,
     "metadata": {},
     "output_type": "execute_result"
    }
   ],
   "source": [
    "non_executed_quantity2 = total_order_quantity * 0.3 - current_executed_quantity\n",
    "\n",
    "non_executed_quantity2"
   ]
  },
  {
   "cell_type": "code",
   "execution_count": 21,
   "id": "f80e4578-734e-4b0e-ac8e-3be19e067b5a",
   "metadata": {},
   "outputs": [],
   "source": [
    "df2.to_csv(\"Short_Interval_2.csv\", index=False)"
   ]
  },
  {
   "cell_type": "markdown",
   "id": "4047cce1-be10-4446-9f2d-59a340134d2c",
   "metadata": {},
   "source": [
    "# Third Interval"
   ]
  },
  {
   "cell_type": "code",
   "execution_count": 22,
   "id": "e9ea4186-a30f-40de-a60d-b5604a565ec9",
   "metadata": {},
   "outputs": [
    {
     "name": "stdout",
     "output_type": "stream",
     "text": [
      "Price is more than average price\n",
      "Successful execution for 0 th interval\n",
      "Price is more than average price\n",
      "Successful execution for 1 th interval\n",
      "Price is more than average price\n",
      "Successful execution for 2 th interval\n",
      "Price is more than average price\n",
      "Successful execution for 3 th interval\n",
      "Price is more than average price\n",
      "Successful execution for 4 th interval\n",
      "Price is more than average price\n",
      "Successful execution for 5 th interval\n",
      "Price is more than average price\n",
      "Successful execution for 6 th interval\n",
      "Price is more than average price\n",
      "Successful execution for 7 th interval\n",
      "Price is more than average price\n",
      "Successful execution for 8 th interval\n",
      "Price is more than average price\n",
      "Successful execution for 9 th interval\n",
      "Price is more than average price\n",
      "Successful execution for 10 th interval\n",
      "Price is more than average price\n",
      "Successful execution for 11 th interval\n",
      "Price is more than average price\n",
      "Successful execution for 12 th interval\n",
      "Price is more than average price\n",
      "Successful execution for 13 th interval\n",
      "Price is more than average price\n",
      "Successful execution for 14 th interval\n",
      "Price is more than average price\n",
      "Successful execution for 15 th interval\n",
      "Price is more than average price\n",
      "Successful execution for 16 th interval\n",
      "Price is more than average price\n",
      "Successful execution for 17 th interval\n",
      "Price is more than average price\n",
      "Successful execution for 18 th interval\n",
      "Price is more than average price\n",
      "Successful execution for 19 th interval\n"
     ]
    }
   ],
   "source": [
    "# execute the third window\n",
    "while dt.datetime.now() < third_execution_start_time:\n",
    "    time.sleep(1)\n",
    "\n",
    "batch3_prices = []  # create a list to store the prices\n",
    "\n",
    "while dt.datetime.now() >= third_execution_start_time and dt.datetime.now() <= third_execution_end_time:\n",
    "    # recalculate the number of units to be executed\n",
    "    order_quantity = int((non_executed_quantity2 + (total_order_quantity * 0.2)) / 20)\n",
    "    for i in range(20): # 20 iterations to execute every 6 minutes\n",
    "        if current_executed_quantity < total_order_quantity * 0.7:\n",
    "            if get_rate() <= average_execution_price2:\n",
    "                response = execute_order(order_quantity, batch3_prices)\n",
    "                current_executed_quantity += order_quantity\n",
    "            else:\n",
    "                print(\"Price is more than average price\")\n",
    "        else:\n",
    "            break\n",
    "        time.sleep(360) # wait for 6 minutes between orders\n",
    "        print(\"Successful execution for\", i, \"th interval\")"
   ]
  },
  {
   "cell_type": "code",
   "execution_count": 23,
   "id": "974d68b1-e97b-459a-b2a5-69ee3839e1cd",
   "metadata": {},
   "outputs": [],
   "source": [
    "# convert the list of prices into a DataFrame\n",
    "df3 = pd.DataFrame(batch3_prices)"
   ]
  },
  {
   "cell_type": "code",
   "execution_count": 24,
   "id": "0d6e8398-d2b3-41f0-8621-b59a31ae41fe",
   "metadata": {},
   "outputs": [
    {
     "data": {
      "text/html": [
       "<div>\n",
       "<style scoped>\n",
       "    .dataframe tbody tr th:only-of-type {\n",
       "        vertical-align: middle;\n",
       "    }\n",
       "\n",
       "    .dataframe tbody tr th {\n",
       "        vertical-align: top;\n",
       "    }\n",
       "\n",
       "    .dataframe thead th {\n",
       "        text-align: right;\n",
       "    }\n",
       "</style>\n",
       "<table border=\"1\" class=\"dataframe\">\n",
       "  <thead>\n",
       "    <tr style=\"text-align: right;\">\n",
       "      <th></th>\n",
       "    </tr>\n",
       "  </thead>\n",
       "  <tbody>\n",
       "  </tbody>\n",
       "</table>\n",
       "</div>"
      ],
      "text/plain": [
       "Empty DataFrame\n",
       "Columns: []\n",
       "Index: []"
      ]
     },
     "execution_count": 24,
     "metadata": {},
     "output_type": "execute_result"
    }
   ],
   "source": [
    "df3"
   ]
  },
  {
   "cell_type": "code",
   "execution_count": 25,
   "id": "b8b617fe-05a7-4772-89fe-706c7d729047",
   "metadata": {},
   "outputs": [],
   "source": [
    "# concatenate the two dataframes vertically\n",
    "updated_df = pd.concat([new_df, df3], axis=0)"
   ]
  },
  {
   "cell_type": "code",
   "execution_count": 26,
   "id": "91585232-6217-4318-9f7f-0a4ad1a70119",
   "metadata": {},
   "outputs": [
    {
     "data": {
      "text/plain": [
       "1.3591310526315787"
      ]
     },
     "execution_count": 26,
     "metadata": {},
     "output_type": "execute_result"
    }
   ],
   "source": [
    "# calculate the total average execution price\n",
    "average_execution_price3 = updated_df['Price'].sum() / len(updated_df)\n",
    "\n",
    "average_execution_price3"
   ]
  },
  {
   "cell_type": "code",
   "execution_count": 27,
   "id": "d072b1dc-8f69-48fb-a3c7-2e4cb39cfa17",
   "metadata": {},
   "outputs": [
    {
     "data": {
      "text/plain": [
       "200000"
      ]
     },
     "execution_count": 27,
     "metadata": {},
     "output_type": "execute_result"
    }
   ],
   "source": [
    "current_executed_quantity"
   ]
  },
  {
   "cell_type": "code",
   "execution_count": 28,
   "id": "cec4b4b5-7b45-428f-91d7-3c0ffd42c88e",
   "metadata": {},
   "outputs": [
    {
     "data": {
      "text/plain": [
       "500000.0"
      ]
     },
     "execution_count": 28,
     "metadata": {},
     "output_type": "execute_result"
    }
   ],
   "source": [
    "non_executed_quantity3 = total_order_quantity * 0.7 - current_executed_quantity\n",
    "\n",
    "non_executed_quantity3"
   ]
  },
  {
   "cell_type": "code",
   "execution_count": 30,
   "id": "4c0552ae-e5fc-4b51-b0ba-e451d044feda",
   "metadata": {},
   "outputs": [],
   "source": [
    "df3.to_csv(\"Short_Interval_3.csv\", index=False)"
   ]
  },
  {
   "cell_type": "markdown",
   "id": "8251613c-d18b-43c3-b2c9-eace60caaacb",
   "metadata": {},
   "source": [
    "# Fourth Interval"
   ]
  },
  {
   "cell_type": "code",
   "execution_count": 32,
   "id": "a394ceb7-cc32-40ad-b68b-2bdd86286f06",
   "metadata": {},
   "outputs": [
    {
     "name": "stdout",
     "output_type": "stream",
     "text": [
      "Price is more than average price\n",
      "Successful execution for 0 th interval\n",
      "Price is more than average price\n",
      "Successful execution for 1 th interval\n",
      "Price is more than average price\n",
      "Successful execution for 2 th interval\n",
      "Price is more than average price\n",
      "Successful execution for 3 th interval\n",
      "Price is more than average price\n",
      "Successful execution for 4 th interval\n",
      "Price is more than average price\n",
      "Successful execution for 5 th interval\n",
      "Price is more than average price\n",
      "Successful execution for 6 th interval\n",
      "Price is more than average price\n",
      "Successful execution for 7 th interval\n",
      "Price is more than average price\n",
      "Successful execution for 8 th interval\n",
      "Price is more than average price\n",
      "Successful execution for 9 th interval\n",
      "Price is more than average price\n",
      "Successful execution for 10 th interval\n",
      "Price is more than average price\n",
      "Successful execution for 11 th interval\n",
      "Price is more than average price\n",
      "Successful execution for 12 th interval\n",
      "Price is more than average price\n",
      "Successful execution for 13 th interval\n",
      "Price is more than average price\n",
      "Successful execution for 14 th interval\n",
      "Price is more than average price\n",
      "Successful execution for 15 th interval\n",
      "Price is more than average price\n",
      "Successful execution for 16 th interval\n",
      "Price is more than average price\n",
      "Successful execution for 17 th interval\n",
      "Price is more than average price\n",
      "Successful execution for 18 th interval\n",
      "Price is more than average price\n",
      "Successful execution for 19 th interval\n",
      "Price is more than average price\n",
      "Successful execution for 20 th interval\n",
      "Price is more than average price\n",
      "Successful execution for 21 th interval\n",
      "Price is more than average price\n",
      "Successful execution for 22 th interval\n",
      "Price is more than average price\n",
      "Successful execution for 23 th interval\n",
      "Price is more than average price\n",
      "Successful execution for 24 th interval\n"
     ]
    },
    {
     "ename": "ConnectionError",
     "evalue": "('Connection aborted.', ConnectionResetError(54, 'Connection reset by peer'))",
     "output_type": "error",
     "traceback": [
      "\u001b[0;31m---------------------------------------------------------------------------\u001b[0m",
      "\u001b[0;31mConnectionResetError\u001b[0m                      Traceback (most recent call last)",
      "File \u001b[0;32m~/opt/anaconda3/lib/python3.9/site-packages/urllib3/connectionpool.py:670\u001b[0m, in \u001b[0;36mHTTPConnectionPool.urlopen\u001b[0;34m(self, method, url, body, headers, retries, redirect, assert_same_host, timeout, pool_timeout, release_conn, chunked, body_pos, **response_kw)\u001b[0m\n\u001b[1;32m    669\u001b[0m \u001b[38;5;66;03m# Make the request on the httplib connection object.\u001b[39;00m\n\u001b[0;32m--> 670\u001b[0m httplib_response \u001b[38;5;241m=\u001b[39m \u001b[38;5;28;43mself\u001b[39;49m\u001b[38;5;241;43m.\u001b[39;49m\u001b[43m_make_request\u001b[49m\u001b[43m(\u001b[49m\n\u001b[1;32m    671\u001b[0m \u001b[43m    \u001b[49m\u001b[43mconn\u001b[49m\u001b[43m,\u001b[49m\n\u001b[1;32m    672\u001b[0m \u001b[43m    \u001b[49m\u001b[43mmethod\u001b[49m\u001b[43m,\u001b[49m\n\u001b[1;32m    673\u001b[0m \u001b[43m    \u001b[49m\u001b[43murl\u001b[49m\u001b[43m,\u001b[49m\n\u001b[1;32m    674\u001b[0m \u001b[43m    \u001b[49m\u001b[43mtimeout\u001b[49m\u001b[38;5;241;43m=\u001b[39;49m\u001b[43mtimeout_obj\u001b[49m\u001b[43m,\u001b[49m\n\u001b[1;32m    675\u001b[0m \u001b[43m    \u001b[49m\u001b[43mbody\u001b[49m\u001b[38;5;241;43m=\u001b[39;49m\u001b[43mbody\u001b[49m\u001b[43m,\u001b[49m\n\u001b[1;32m    676\u001b[0m \u001b[43m    \u001b[49m\u001b[43mheaders\u001b[49m\u001b[38;5;241;43m=\u001b[39;49m\u001b[43mheaders\u001b[49m\u001b[43m,\u001b[49m\n\u001b[1;32m    677\u001b[0m \u001b[43m    \u001b[49m\u001b[43mchunked\u001b[49m\u001b[38;5;241;43m=\u001b[39;49m\u001b[43mchunked\u001b[49m\u001b[43m,\u001b[49m\n\u001b[1;32m    678\u001b[0m \u001b[43m\u001b[49m\u001b[43m)\u001b[49m\n\u001b[1;32m    680\u001b[0m \u001b[38;5;66;03m# If we're going to release the connection in ``finally:``, then\u001b[39;00m\n\u001b[1;32m    681\u001b[0m \u001b[38;5;66;03m# the response doesn't need to know about the connection. Otherwise\u001b[39;00m\n\u001b[1;32m    682\u001b[0m \u001b[38;5;66;03m# it will also try to release it and we'll have a double-release\u001b[39;00m\n\u001b[1;32m    683\u001b[0m \u001b[38;5;66;03m# mess.\u001b[39;00m\n",
      "File \u001b[0;32m~/opt/anaconda3/lib/python3.9/site-packages/urllib3/connectionpool.py:426\u001b[0m, in \u001b[0;36mHTTPConnectionPool._make_request\u001b[0;34m(self, conn, method, url, timeout, chunked, **httplib_request_kw)\u001b[0m\n\u001b[1;32m    422\u001b[0m         \u001b[38;5;28;01mexcept\u001b[39;00m \u001b[38;5;167;01mBaseException\u001b[39;00m \u001b[38;5;28;01mas\u001b[39;00m e:\n\u001b[1;32m    423\u001b[0m             \u001b[38;5;66;03m# Remove the TypeError from the exception chain in\u001b[39;00m\n\u001b[1;32m    424\u001b[0m             \u001b[38;5;66;03m# Python 3 (including for exceptions like SystemExit).\u001b[39;00m\n\u001b[1;32m    425\u001b[0m             \u001b[38;5;66;03m# Otherwise it looks like a bug in the code.\u001b[39;00m\n\u001b[0;32m--> 426\u001b[0m             \u001b[43msix\u001b[49m\u001b[38;5;241;43m.\u001b[39;49m\u001b[43mraise_from\u001b[49m\u001b[43m(\u001b[49m\u001b[43me\u001b[49m\u001b[43m,\u001b[49m\u001b[43m \u001b[49m\u001b[38;5;28;43;01mNone\u001b[39;49;00m\u001b[43m)\u001b[49m\n\u001b[1;32m    427\u001b[0m \u001b[38;5;28;01mexcept\u001b[39;00m (SocketTimeout, BaseSSLError, SocketError) \u001b[38;5;28;01mas\u001b[39;00m e:\n",
      "File \u001b[0;32m<string>:3\u001b[0m, in \u001b[0;36mraise_from\u001b[0;34m(value, from_value)\u001b[0m\n",
      "File \u001b[0;32m~/opt/anaconda3/lib/python3.9/site-packages/urllib3/connectionpool.py:421\u001b[0m, in \u001b[0;36mHTTPConnectionPool._make_request\u001b[0;34m(self, conn, method, url, timeout, chunked, **httplib_request_kw)\u001b[0m\n\u001b[1;32m    420\u001b[0m \u001b[38;5;28;01mtry\u001b[39;00m:\n\u001b[0;32m--> 421\u001b[0m     httplib_response \u001b[38;5;241m=\u001b[39m \u001b[43mconn\u001b[49m\u001b[38;5;241;43m.\u001b[39;49m\u001b[43mgetresponse\u001b[49m\u001b[43m(\u001b[49m\u001b[43m)\u001b[49m\n\u001b[1;32m    422\u001b[0m \u001b[38;5;28;01mexcept\u001b[39;00m \u001b[38;5;167;01mBaseException\u001b[39;00m \u001b[38;5;28;01mas\u001b[39;00m e:\n\u001b[1;32m    423\u001b[0m     \u001b[38;5;66;03m# Remove the TypeError from the exception chain in\u001b[39;00m\n\u001b[1;32m    424\u001b[0m     \u001b[38;5;66;03m# Python 3 (including for exceptions like SystemExit).\u001b[39;00m\n\u001b[1;32m    425\u001b[0m     \u001b[38;5;66;03m# Otherwise it looks like a bug in the code.\u001b[39;00m\n",
      "File \u001b[0;32m~/opt/anaconda3/lib/python3.9/http/client.py:1377\u001b[0m, in \u001b[0;36mHTTPConnection.getresponse\u001b[0;34m(self)\u001b[0m\n\u001b[1;32m   1376\u001b[0m \u001b[38;5;28;01mtry\u001b[39;00m:\n\u001b[0;32m-> 1377\u001b[0m     \u001b[43mresponse\u001b[49m\u001b[38;5;241;43m.\u001b[39;49m\u001b[43mbegin\u001b[49m\u001b[43m(\u001b[49m\u001b[43m)\u001b[49m\n\u001b[1;32m   1378\u001b[0m \u001b[38;5;28;01mexcept\u001b[39;00m \u001b[38;5;167;01mConnectionError\u001b[39;00m:\n",
      "File \u001b[0;32m~/opt/anaconda3/lib/python3.9/http/client.py:320\u001b[0m, in \u001b[0;36mHTTPResponse.begin\u001b[0;34m(self)\u001b[0m\n\u001b[1;32m    319\u001b[0m \u001b[38;5;28;01mwhile\u001b[39;00m \u001b[38;5;28;01mTrue\u001b[39;00m:\n\u001b[0;32m--> 320\u001b[0m     version, status, reason \u001b[38;5;241m=\u001b[39m \u001b[38;5;28;43mself\u001b[39;49m\u001b[38;5;241;43m.\u001b[39;49m\u001b[43m_read_status\u001b[49m\u001b[43m(\u001b[49m\u001b[43m)\u001b[49m\n\u001b[1;32m    321\u001b[0m     \u001b[38;5;28;01mif\u001b[39;00m status \u001b[38;5;241m!=\u001b[39m CONTINUE:\n",
      "File \u001b[0;32m~/opt/anaconda3/lib/python3.9/http/client.py:281\u001b[0m, in \u001b[0;36mHTTPResponse._read_status\u001b[0;34m(self)\u001b[0m\n\u001b[1;32m    280\u001b[0m \u001b[38;5;28;01mdef\u001b[39;00m \u001b[38;5;21m_read_status\u001b[39m(\u001b[38;5;28mself\u001b[39m):\n\u001b[0;32m--> 281\u001b[0m     line \u001b[38;5;241m=\u001b[39m \u001b[38;5;28mstr\u001b[39m(\u001b[38;5;28;43mself\u001b[39;49m\u001b[38;5;241;43m.\u001b[39;49m\u001b[43mfp\u001b[49m\u001b[38;5;241;43m.\u001b[39;49m\u001b[43mreadline\u001b[49m\u001b[43m(\u001b[49m\u001b[43m_MAXLINE\u001b[49m\u001b[43m \u001b[49m\u001b[38;5;241;43m+\u001b[39;49m\u001b[43m \u001b[49m\u001b[38;5;241;43m1\u001b[39;49m\u001b[43m)\u001b[49m, \u001b[38;5;124m\"\u001b[39m\u001b[38;5;124miso-8859-1\u001b[39m\u001b[38;5;124m\"\u001b[39m)\n\u001b[1;32m    282\u001b[0m     \u001b[38;5;28;01mif\u001b[39;00m \u001b[38;5;28mlen\u001b[39m(line) \u001b[38;5;241m>\u001b[39m _MAXLINE:\n",
      "File \u001b[0;32m~/opt/anaconda3/lib/python3.9/socket.py:704\u001b[0m, in \u001b[0;36mSocketIO.readinto\u001b[0;34m(self, b)\u001b[0m\n\u001b[1;32m    703\u001b[0m \u001b[38;5;28;01mtry\u001b[39;00m:\n\u001b[0;32m--> 704\u001b[0m     \u001b[38;5;28;01mreturn\u001b[39;00m \u001b[38;5;28;43mself\u001b[39;49m\u001b[38;5;241;43m.\u001b[39;49m\u001b[43m_sock\u001b[49m\u001b[38;5;241;43m.\u001b[39;49m\u001b[43mrecv_into\u001b[49m\u001b[43m(\u001b[49m\u001b[43mb\u001b[49m\u001b[43m)\u001b[49m\n\u001b[1;32m    705\u001b[0m \u001b[38;5;28;01mexcept\u001b[39;00m timeout:\n",
      "File \u001b[0;32m~/opt/anaconda3/lib/python3.9/ssl.py:1242\u001b[0m, in \u001b[0;36mSSLSocket.recv_into\u001b[0;34m(self, buffer, nbytes, flags)\u001b[0m\n\u001b[1;32m   1239\u001b[0m         \u001b[38;5;28;01mraise\u001b[39;00m \u001b[38;5;167;01mValueError\u001b[39;00m(\n\u001b[1;32m   1240\u001b[0m           \u001b[38;5;124m\"\u001b[39m\u001b[38;5;124mnon-zero flags not allowed in calls to recv_into() on \u001b[39m\u001b[38;5;132;01m%s\u001b[39;00m\u001b[38;5;124m\"\u001b[39m \u001b[38;5;241m%\u001b[39m\n\u001b[1;32m   1241\u001b[0m           \u001b[38;5;28mself\u001b[39m\u001b[38;5;241m.\u001b[39m\u001b[38;5;18m__class__\u001b[39m)\n\u001b[0;32m-> 1242\u001b[0m     \u001b[38;5;28;01mreturn\u001b[39;00m \u001b[38;5;28;43mself\u001b[39;49m\u001b[38;5;241;43m.\u001b[39;49m\u001b[43mread\u001b[49m\u001b[43m(\u001b[49m\u001b[43mnbytes\u001b[49m\u001b[43m,\u001b[49m\u001b[43m \u001b[49m\u001b[43mbuffer\u001b[49m\u001b[43m)\u001b[49m\n\u001b[1;32m   1243\u001b[0m \u001b[38;5;28;01melse\u001b[39;00m:\n",
      "File \u001b[0;32m~/opt/anaconda3/lib/python3.9/ssl.py:1100\u001b[0m, in \u001b[0;36mSSLSocket.read\u001b[0;34m(self, len, buffer)\u001b[0m\n\u001b[1;32m   1099\u001b[0m \u001b[38;5;28;01mif\u001b[39;00m buffer \u001b[38;5;129;01mis\u001b[39;00m \u001b[38;5;129;01mnot\u001b[39;00m \u001b[38;5;28;01mNone\u001b[39;00m:\n\u001b[0;32m-> 1100\u001b[0m     \u001b[38;5;28;01mreturn\u001b[39;00m \u001b[38;5;28;43mself\u001b[39;49m\u001b[38;5;241;43m.\u001b[39;49m\u001b[43m_sslobj\u001b[49m\u001b[38;5;241;43m.\u001b[39;49m\u001b[43mread\u001b[49m\u001b[43m(\u001b[49m\u001b[38;5;28;43mlen\u001b[39;49m\u001b[43m,\u001b[49m\u001b[43m \u001b[49m\u001b[43mbuffer\u001b[49m\u001b[43m)\u001b[49m\n\u001b[1;32m   1101\u001b[0m \u001b[38;5;28;01melse\u001b[39;00m:\n",
      "\u001b[0;31mConnectionResetError\u001b[0m: [Errno 54] Connection reset by peer",
      "\nDuring handling of the above exception, another exception occurred:\n",
      "\u001b[0;31mProtocolError\u001b[0m                             Traceback (most recent call last)",
      "File \u001b[0;32m~/opt/anaconda3/lib/python3.9/site-packages/requests/adapters.py:439\u001b[0m, in \u001b[0;36mHTTPAdapter.send\u001b[0;34m(self, request, stream, timeout, verify, cert, proxies)\u001b[0m\n\u001b[1;32m    438\u001b[0m \u001b[38;5;28;01mif\u001b[39;00m \u001b[38;5;129;01mnot\u001b[39;00m chunked:\n\u001b[0;32m--> 439\u001b[0m     resp \u001b[38;5;241m=\u001b[39m \u001b[43mconn\u001b[49m\u001b[38;5;241;43m.\u001b[39;49m\u001b[43murlopen\u001b[49m\u001b[43m(\u001b[49m\n\u001b[1;32m    440\u001b[0m \u001b[43m        \u001b[49m\u001b[43mmethod\u001b[49m\u001b[38;5;241;43m=\u001b[39;49m\u001b[43mrequest\u001b[49m\u001b[38;5;241;43m.\u001b[39;49m\u001b[43mmethod\u001b[49m\u001b[43m,\u001b[49m\n\u001b[1;32m    441\u001b[0m \u001b[43m        \u001b[49m\u001b[43murl\u001b[49m\u001b[38;5;241;43m=\u001b[39;49m\u001b[43murl\u001b[49m\u001b[43m,\u001b[49m\n\u001b[1;32m    442\u001b[0m \u001b[43m        \u001b[49m\u001b[43mbody\u001b[49m\u001b[38;5;241;43m=\u001b[39;49m\u001b[43mrequest\u001b[49m\u001b[38;5;241;43m.\u001b[39;49m\u001b[43mbody\u001b[49m\u001b[43m,\u001b[49m\n\u001b[1;32m    443\u001b[0m \u001b[43m        \u001b[49m\u001b[43mheaders\u001b[49m\u001b[38;5;241;43m=\u001b[39;49m\u001b[43mrequest\u001b[49m\u001b[38;5;241;43m.\u001b[39;49m\u001b[43mheaders\u001b[49m\u001b[43m,\u001b[49m\n\u001b[1;32m    444\u001b[0m \u001b[43m        \u001b[49m\u001b[43mredirect\u001b[49m\u001b[38;5;241;43m=\u001b[39;49m\u001b[38;5;28;43;01mFalse\u001b[39;49;00m\u001b[43m,\u001b[49m\n\u001b[1;32m    445\u001b[0m \u001b[43m        \u001b[49m\u001b[43massert_same_host\u001b[49m\u001b[38;5;241;43m=\u001b[39;49m\u001b[38;5;28;43;01mFalse\u001b[39;49;00m\u001b[43m,\u001b[49m\n\u001b[1;32m    446\u001b[0m \u001b[43m        \u001b[49m\u001b[43mpreload_content\u001b[49m\u001b[38;5;241;43m=\u001b[39;49m\u001b[38;5;28;43;01mFalse\u001b[39;49;00m\u001b[43m,\u001b[49m\n\u001b[1;32m    447\u001b[0m \u001b[43m        \u001b[49m\u001b[43mdecode_content\u001b[49m\u001b[38;5;241;43m=\u001b[39;49m\u001b[38;5;28;43;01mFalse\u001b[39;49;00m\u001b[43m,\u001b[49m\n\u001b[1;32m    448\u001b[0m \u001b[43m        \u001b[49m\u001b[43mretries\u001b[49m\u001b[38;5;241;43m=\u001b[39;49m\u001b[38;5;28;43mself\u001b[39;49m\u001b[38;5;241;43m.\u001b[39;49m\u001b[43mmax_retries\u001b[49m\u001b[43m,\u001b[49m\n\u001b[1;32m    449\u001b[0m \u001b[43m        \u001b[49m\u001b[43mtimeout\u001b[49m\u001b[38;5;241;43m=\u001b[39;49m\u001b[43mtimeout\u001b[49m\n\u001b[1;32m    450\u001b[0m \u001b[43m    \u001b[49m\u001b[43m)\u001b[49m\n\u001b[1;32m    452\u001b[0m \u001b[38;5;66;03m# Send the request.\u001b[39;00m\n\u001b[1;32m    453\u001b[0m \u001b[38;5;28;01melse\u001b[39;00m:\n",
      "File \u001b[0;32m~/opt/anaconda3/lib/python3.9/site-packages/urllib3/connectionpool.py:726\u001b[0m, in \u001b[0;36mHTTPConnectionPool.urlopen\u001b[0;34m(self, method, url, body, headers, retries, redirect, assert_same_host, timeout, pool_timeout, release_conn, chunked, body_pos, **response_kw)\u001b[0m\n\u001b[1;32m    724\u001b[0m     e \u001b[38;5;241m=\u001b[39m ProtocolError(\u001b[38;5;124m\"\u001b[39m\u001b[38;5;124mConnection aborted.\u001b[39m\u001b[38;5;124m\"\u001b[39m, e)\n\u001b[0;32m--> 726\u001b[0m retries \u001b[38;5;241m=\u001b[39m \u001b[43mretries\u001b[49m\u001b[38;5;241;43m.\u001b[39;49m\u001b[43mincrement\u001b[49m\u001b[43m(\u001b[49m\n\u001b[1;32m    727\u001b[0m \u001b[43m    \u001b[49m\u001b[43mmethod\u001b[49m\u001b[43m,\u001b[49m\u001b[43m \u001b[49m\u001b[43murl\u001b[49m\u001b[43m,\u001b[49m\u001b[43m \u001b[49m\u001b[43merror\u001b[49m\u001b[38;5;241;43m=\u001b[39;49m\u001b[43me\u001b[49m\u001b[43m,\u001b[49m\u001b[43m \u001b[49m\u001b[43m_pool\u001b[49m\u001b[38;5;241;43m=\u001b[39;49m\u001b[38;5;28;43mself\u001b[39;49m\u001b[43m,\u001b[49m\u001b[43m \u001b[49m\u001b[43m_stacktrace\u001b[49m\u001b[38;5;241;43m=\u001b[39;49m\u001b[43msys\u001b[49m\u001b[38;5;241;43m.\u001b[39;49m\u001b[43mexc_info\u001b[49m\u001b[43m(\u001b[49m\u001b[43m)\u001b[49m\u001b[43m[\u001b[49m\u001b[38;5;241;43m2\u001b[39;49m\u001b[43m]\u001b[49m\n\u001b[1;32m    728\u001b[0m \u001b[43m\u001b[49m\u001b[43m)\u001b[49m\n\u001b[1;32m    729\u001b[0m retries\u001b[38;5;241m.\u001b[39msleep()\n",
      "File \u001b[0;32m~/opt/anaconda3/lib/python3.9/site-packages/urllib3/util/retry.py:410\u001b[0m, in \u001b[0;36mRetry.increment\u001b[0;34m(self, method, url, response, error, _pool, _stacktrace)\u001b[0m\n\u001b[1;32m    409\u001b[0m \u001b[38;5;28;01mif\u001b[39;00m read \u001b[38;5;129;01mis\u001b[39;00m \u001b[38;5;28;01mFalse\u001b[39;00m \u001b[38;5;129;01mor\u001b[39;00m \u001b[38;5;129;01mnot\u001b[39;00m \u001b[38;5;28mself\u001b[39m\u001b[38;5;241m.\u001b[39m_is_method_retryable(method):\n\u001b[0;32m--> 410\u001b[0m     \u001b[38;5;28;01mraise\u001b[39;00m \u001b[43msix\u001b[49m\u001b[38;5;241;43m.\u001b[39;49m\u001b[43mreraise\u001b[49m\u001b[43m(\u001b[49m\u001b[38;5;28;43mtype\u001b[39;49m\u001b[43m(\u001b[49m\u001b[43merror\u001b[49m\u001b[43m)\u001b[49m\u001b[43m,\u001b[49m\u001b[43m \u001b[49m\u001b[43merror\u001b[49m\u001b[43m,\u001b[49m\u001b[43m \u001b[49m\u001b[43m_stacktrace\u001b[49m\u001b[43m)\u001b[49m\n\u001b[1;32m    411\u001b[0m \u001b[38;5;28;01melif\u001b[39;00m read \u001b[38;5;129;01mis\u001b[39;00m \u001b[38;5;129;01mnot\u001b[39;00m \u001b[38;5;28;01mNone\u001b[39;00m:\n",
      "File \u001b[0;32m~/opt/anaconda3/lib/python3.9/site-packages/urllib3/packages/six.py:734\u001b[0m, in \u001b[0;36mreraise\u001b[0;34m(tp, value, tb)\u001b[0m\n\u001b[1;32m    733\u001b[0m \u001b[38;5;28;01mif\u001b[39;00m value\u001b[38;5;241m.\u001b[39m__traceback__ \u001b[38;5;129;01mis\u001b[39;00m \u001b[38;5;129;01mnot\u001b[39;00m tb:\n\u001b[0;32m--> 734\u001b[0m     \u001b[38;5;28;01mraise\u001b[39;00m value\u001b[38;5;241m.\u001b[39mwith_traceback(tb)\n\u001b[1;32m    735\u001b[0m \u001b[38;5;28;01mraise\u001b[39;00m value\n",
      "File \u001b[0;32m~/opt/anaconda3/lib/python3.9/site-packages/urllib3/connectionpool.py:670\u001b[0m, in \u001b[0;36mHTTPConnectionPool.urlopen\u001b[0;34m(self, method, url, body, headers, retries, redirect, assert_same_host, timeout, pool_timeout, release_conn, chunked, body_pos, **response_kw)\u001b[0m\n\u001b[1;32m    669\u001b[0m \u001b[38;5;66;03m# Make the request on the httplib connection object.\u001b[39;00m\n\u001b[0;32m--> 670\u001b[0m httplib_response \u001b[38;5;241m=\u001b[39m \u001b[38;5;28;43mself\u001b[39;49m\u001b[38;5;241;43m.\u001b[39;49m\u001b[43m_make_request\u001b[49m\u001b[43m(\u001b[49m\n\u001b[1;32m    671\u001b[0m \u001b[43m    \u001b[49m\u001b[43mconn\u001b[49m\u001b[43m,\u001b[49m\n\u001b[1;32m    672\u001b[0m \u001b[43m    \u001b[49m\u001b[43mmethod\u001b[49m\u001b[43m,\u001b[49m\n\u001b[1;32m    673\u001b[0m \u001b[43m    \u001b[49m\u001b[43murl\u001b[49m\u001b[43m,\u001b[49m\n\u001b[1;32m    674\u001b[0m \u001b[43m    \u001b[49m\u001b[43mtimeout\u001b[49m\u001b[38;5;241;43m=\u001b[39;49m\u001b[43mtimeout_obj\u001b[49m\u001b[43m,\u001b[49m\n\u001b[1;32m    675\u001b[0m \u001b[43m    \u001b[49m\u001b[43mbody\u001b[49m\u001b[38;5;241;43m=\u001b[39;49m\u001b[43mbody\u001b[49m\u001b[43m,\u001b[49m\n\u001b[1;32m    676\u001b[0m \u001b[43m    \u001b[49m\u001b[43mheaders\u001b[49m\u001b[38;5;241;43m=\u001b[39;49m\u001b[43mheaders\u001b[49m\u001b[43m,\u001b[49m\n\u001b[1;32m    677\u001b[0m \u001b[43m    \u001b[49m\u001b[43mchunked\u001b[49m\u001b[38;5;241;43m=\u001b[39;49m\u001b[43mchunked\u001b[49m\u001b[43m,\u001b[49m\n\u001b[1;32m    678\u001b[0m \u001b[43m\u001b[49m\u001b[43m)\u001b[49m\n\u001b[1;32m    680\u001b[0m \u001b[38;5;66;03m# If we're going to release the connection in ``finally:``, then\u001b[39;00m\n\u001b[1;32m    681\u001b[0m \u001b[38;5;66;03m# the response doesn't need to know about the connection. Otherwise\u001b[39;00m\n\u001b[1;32m    682\u001b[0m \u001b[38;5;66;03m# it will also try to release it and we'll have a double-release\u001b[39;00m\n\u001b[1;32m    683\u001b[0m \u001b[38;5;66;03m# mess.\u001b[39;00m\n",
      "File \u001b[0;32m~/opt/anaconda3/lib/python3.9/site-packages/urllib3/connectionpool.py:426\u001b[0m, in \u001b[0;36mHTTPConnectionPool._make_request\u001b[0;34m(self, conn, method, url, timeout, chunked, **httplib_request_kw)\u001b[0m\n\u001b[1;32m    422\u001b[0m         \u001b[38;5;28;01mexcept\u001b[39;00m \u001b[38;5;167;01mBaseException\u001b[39;00m \u001b[38;5;28;01mas\u001b[39;00m e:\n\u001b[1;32m    423\u001b[0m             \u001b[38;5;66;03m# Remove the TypeError from the exception chain in\u001b[39;00m\n\u001b[1;32m    424\u001b[0m             \u001b[38;5;66;03m# Python 3 (including for exceptions like SystemExit).\u001b[39;00m\n\u001b[1;32m    425\u001b[0m             \u001b[38;5;66;03m# Otherwise it looks like a bug in the code.\u001b[39;00m\n\u001b[0;32m--> 426\u001b[0m             \u001b[43msix\u001b[49m\u001b[38;5;241;43m.\u001b[39;49m\u001b[43mraise_from\u001b[49m\u001b[43m(\u001b[49m\u001b[43me\u001b[49m\u001b[43m,\u001b[49m\u001b[43m \u001b[49m\u001b[38;5;28;43;01mNone\u001b[39;49;00m\u001b[43m)\u001b[49m\n\u001b[1;32m    427\u001b[0m \u001b[38;5;28;01mexcept\u001b[39;00m (SocketTimeout, BaseSSLError, SocketError) \u001b[38;5;28;01mas\u001b[39;00m e:\n",
      "File \u001b[0;32m<string>:3\u001b[0m, in \u001b[0;36mraise_from\u001b[0;34m(value, from_value)\u001b[0m\n",
      "File \u001b[0;32m~/opt/anaconda3/lib/python3.9/site-packages/urllib3/connectionpool.py:421\u001b[0m, in \u001b[0;36mHTTPConnectionPool._make_request\u001b[0;34m(self, conn, method, url, timeout, chunked, **httplib_request_kw)\u001b[0m\n\u001b[1;32m    420\u001b[0m \u001b[38;5;28;01mtry\u001b[39;00m:\n\u001b[0;32m--> 421\u001b[0m     httplib_response \u001b[38;5;241m=\u001b[39m \u001b[43mconn\u001b[49m\u001b[38;5;241;43m.\u001b[39;49m\u001b[43mgetresponse\u001b[49m\u001b[43m(\u001b[49m\u001b[43m)\u001b[49m\n\u001b[1;32m    422\u001b[0m \u001b[38;5;28;01mexcept\u001b[39;00m \u001b[38;5;167;01mBaseException\u001b[39;00m \u001b[38;5;28;01mas\u001b[39;00m e:\n\u001b[1;32m    423\u001b[0m     \u001b[38;5;66;03m# Remove the TypeError from the exception chain in\u001b[39;00m\n\u001b[1;32m    424\u001b[0m     \u001b[38;5;66;03m# Python 3 (including for exceptions like SystemExit).\u001b[39;00m\n\u001b[1;32m    425\u001b[0m     \u001b[38;5;66;03m# Otherwise it looks like a bug in the code.\u001b[39;00m\n",
      "File \u001b[0;32m~/opt/anaconda3/lib/python3.9/http/client.py:1377\u001b[0m, in \u001b[0;36mHTTPConnection.getresponse\u001b[0;34m(self)\u001b[0m\n\u001b[1;32m   1376\u001b[0m \u001b[38;5;28;01mtry\u001b[39;00m:\n\u001b[0;32m-> 1377\u001b[0m     \u001b[43mresponse\u001b[49m\u001b[38;5;241;43m.\u001b[39;49m\u001b[43mbegin\u001b[49m\u001b[43m(\u001b[49m\u001b[43m)\u001b[49m\n\u001b[1;32m   1378\u001b[0m \u001b[38;5;28;01mexcept\u001b[39;00m \u001b[38;5;167;01mConnectionError\u001b[39;00m:\n",
      "File \u001b[0;32m~/opt/anaconda3/lib/python3.9/http/client.py:320\u001b[0m, in \u001b[0;36mHTTPResponse.begin\u001b[0;34m(self)\u001b[0m\n\u001b[1;32m    319\u001b[0m \u001b[38;5;28;01mwhile\u001b[39;00m \u001b[38;5;28;01mTrue\u001b[39;00m:\n\u001b[0;32m--> 320\u001b[0m     version, status, reason \u001b[38;5;241m=\u001b[39m \u001b[38;5;28;43mself\u001b[39;49m\u001b[38;5;241;43m.\u001b[39;49m\u001b[43m_read_status\u001b[49m\u001b[43m(\u001b[49m\u001b[43m)\u001b[49m\n\u001b[1;32m    321\u001b[0m     \u001b[38;5;28;01mif\u001b[39;00m status \u001b[38;5;241m!=\u001b[39m CONTINUE:\n",
      "File \u001b[0;32m~/opt/anaconda3/lib/python3.9/http/client.py:281\u001b[0m, in \u001b[0;36mHTTPResponse._read_status\u001b[0;34m(self)\u001b[0m\n\u001b[1;32m    280\u001b[0m \u001b[38;5;28;01mdef\u001b[39;00m \u001b[38;5;21m_read_status\u001b[39m(\u001b[38;5;28mself\u001b[39m):\n\u001b[0;32m--> 281\u001b[0m     line \u001b[38;5;241m=\u001b[39m \u001b[38;5;28mstr\u001b[39m(\u001b[38;5;28;43mself\u001b[39;49m\u001b[38;5;241;43m.\u001b[39;49m\u001b[43mfp\u001b[49m\u001b[38;5;241;43m.\u001b[39;49m\u001b[43mreadline\u001b[49m\u001b[43m(\u001b[49m\u001b[43m_MAXLINE\u001b[49m\u001b[43m \u001b[49m\u001b[38;5;241;43m+\u001b[39;49m\u001b[43m \u001b[49m\u001b[38;5;241;43m1\u001b[39;49m\u001b[43m)\u001b[49m, \u001b[38;5;124m\"\u001b[39m\u001b[38;5;124miso-8859-1\u001b[39m\u001b[38;5;124m\"\u001b[39m)\n\u001b[1;32m    282\u001b[0m     \u001b[38;5;28;01mif\u001b[39;00m \u001b[38;5;28mlen\u001b[39m(line) \u001b[38;5;241m>\u001b[39m _MAXLINE:\n",
      "File \u001b[0;32m~/opt/anaconda3/lib/python3.9/socket.py:704\u001b[0m, in \u001b[0;36mSocketIO.readinto\u001b[0;34m(self, b)\u001b[0m\n\u001b[1;32m    703\u001b[0m \u001b[38;5;28;01mtry\u001b[39;00m:\n\u001b[0;32m--> 704\u001b[0m     \u001b[38;5;28;01mreturn\u001b[39;00m \u001b[38;5;28;43mself\u001b[39;49m\u001b[38;5;241;43m.\u001b[39;49m\u001b[43m_sock\u001b[49m\u001b[38;5;241;43m.\u001b[39;49m\u001b[43mrecv_into\u001b[49m\u001b[43m(\u001b[49m\u001b[43mb\u001b[49m\u001b[43m)\u001b[49m\n\u001b[1;32m    705\u001b[0m \u001b[38;5;28;01mexcept\u001b[39;00m timeout:\n",
      "File \u001b[0;32m~/opt/anaconda3/lib/python3.9/ssl.py:1242\u001b[0m, in \u001b[0;36mSSLSocket.recv_into\u001b[0;34m(self, buffer, nbytes, flags)\u001b[0m\n\u001b[1;32m   1239\u001b[0m         \u001b[38;5;28;01mraise\u001b[39;00m \u001b[38;5;167;01mValueError\u001b[39;00m(\n\u001b[1;32m   1240\u001b[0m           \u001b[38;5;124m\"\u001b[39m\u001b[38;5;124mnon-zero flags not allowed in calls to recv_into() on \u001b[39m\u001b[38;5;132;01m%s\u001b[39;00m\u001b[38;5;124m\"\u001b[39m \u001b[38;5;241m%\u001b[39m\n\u001b[1;32m   1241\u001b[0m           \u001b[38;5;28mself\u001b[39m\u001b[38;5;241m.\u001b[39m\u001b[38;5;18m__class__\u001b[39m)\n\u001b[0;32m-> 1242\u001b[0m     \u001b[38;5;28;01mreturn\u001b[39;00m \u001b[38;5;28;43mself\u001b[39;49m\u001b[38;5;241;43m.\u001b[39;49m\u001b[43mread\u001b[49m\u001b[43m(\u001b[49m\u001b[43mnbytes\u001b[49m\u001b[43m,\u001b[49m\u001b[43m \u001b[49m\u001b[43mbuffer\u001b[49m\u001b[43m)\u001b[49m\n\u001b[1;32m   1243\u001b[0m \u001b[38;5;28;01melse\u001b[39;00m:\n",
      "File \u001b[0;32m~/opt/anaconda3/lib/python3.9/ssl.py:1100\u001b[0m, in \u001b[0;36mSSLSocket.read\u001b[0;34m(self, len, buffer)\u001b[0m\n\u001b[1;32m   1099\u001b[0m \u001b[38;5;28;01mif\u001b[39;00m buffer \u001b[38;5;129;01mis\u001b[39;00m \u001b[38;5;129;01mnot\u001b[39;00m \u001b[38;5;28;01mNone\u001b[39;00m:\n\u001b[0;32m-> 1100\u001b[0m     \u001b[38;5;28;01mreturn\u001b[39;00m \u001b[38;5;28;43mself\u001b[39;49m\u001b[38;5;241;43m.\u001b[39;49m\u001b[43m_sslobj\u001b[49m\u001b[38;5;241;43m.\u001b[39;49m\u001b[43mread\u001b[49m\u001b[43m(\u001b[49m\u001b[38;5;28;43mlen\u001b[39;49m\u001b[43m,\u001b[49m\u001b[43m \u001b[49m\u001b[43mbuffer\u001b[49m\u001b[43m)\u001b[49m\n\u001b[1;32m   1101\u001b[0m \u001b[38;5;28;01melse\u001b[39;00m:\n",
      "\u001b[0;31mProtocolError\u001b[0m: ('Connection aborted.', ConnectionResetError(54, 'Connection reset by peer'))",
      "\nDuring handling of the above exception, another exception occurred:\n",
      "\u001b[0;31mConnectionError\u001b[0m                           Traceback (most recent call last)",
      "Cell \u001b[0;32mIn[32], line 12\u001b[0m\n\u001b[1;32m     10\u001b[0m \u001b[38;5;28;01mfor\u001b[39;00m i \u001b[38;5;129;01min\u001b[39;00m \u001b[38;5;28mrange\u001b[39m(\u001b[38;5;241m30\u001b[39m): \u001b[38;5;66;03m# 30 iterations to execute every 6 minutes\u001b[39;00m\n\u001b[1;32m     11\u001b[0m     \u001b[38;5;28;01mif\u001b[39;00m current_executed_quantity \u001b[38;5;241m<\u001b[39m total_order_quantity:\n\u001b[0;32m---> 12\u001b[0m         \u001b[38;5;28;01mif\u001b[39;00m \u001b[43mget_rate\u001b[49m\u001b[43m(\u001b[49m\u001b[43m)\u001b[49m \u001b[38;5;241m<\u001b[39m\u001b[38;5;241m=\u001b[39m average_execution_price3:\n\u001b[1;32m     13\u001b[0m             response \u001b[38;5;241m=\u001b[39m execute_order(order_quantity, batch4_prices)\n\u001b[1;32m     14\u001b[0m             current_executed_quantity \u001b[38;5;241m+\u001b[39m\u001b[38;5;241m=\u001b[39m order_quantity\n",
      "Cell \u001b[0;32mIn[6], line 4\u001b[0m, in \u001b[0;36mget_rate\u001b[0;34m()\u001b[0m\n\u001b[1;32m      2\u001b[0m \u001b[38;5;28;01mdef\u001b[39;00m \u001b[38;5;21mget_rate\u001b[39m():\n\u001b[1;32m      3\u001b[0m     price_request \u001b[38;5;241m=\u001b[39m pricing\u001b[38;5;241m.\u001b[39mPricingInfo(accountID\u001b[38;5;241m=\u001b[39maccountID, params\u001b[38;5;241m=\u001b[39m{\u001b[38;5;124m'\u001b[39m\u001b[38;5;124minstruments\u001b[39m\u001b[38;5;124m'\u001b[39m: instrument})\n\u001b[0;32m----> 4\u001b[0m     response \u001b[38;5;241m=\u001b[39m \u001b[43mclient\u001b[49m\u001b[38;5;241;43m.\u001b[39;49m\u001b[43mrequest\u001b[49m\u001b[43m(\u001b[49m\u001b[43mprice_request\u001b[49m\u001b[43m)\u001b[49m\n\u001b[1;32m      5\u001b[0m     \u001b[38;5;28;01mreturn\u001b[39;00m \u001b[38;5;28mfloat\u001b[39m(response[\u001b[38;5;124m'\u001b[39m\u001b[38;5;124mprices\u001b[39m\u001b[38;5;124m'\u001b[39m][\u001b[38;5;241m0\u001b[39m][\u001b[38;5;124m'\u001b[39m\u001b[38;5;124masks\u001b[39m\u001b[38;5;124m'\u001b[39m][\u001b[38;5;241m0\u001b[39m][\u001b[38;5;124m'\u001b[39m\u001b[38;5;124mprice\u001b[39m\u001b[38;5;124m'\u001b[39m])\n",
      "File \u001b[0;32m~/opt/anaconda3/lib/python3.9/site-packages/oandapyV20/oandapyV20.py:337\u001b[0m, in \u001b[0;36mAPI.request\u001b[0;34m(self, endpoint)\u001b[0m\n\u001b[1;32m    331\u001b[0m \u001b[38;5;28;01mif\u001b[39;00m \u001b[38;5;129;01mnot\u001b[39;00m (\u001b[38;5;28mhasattr\u001b[39m(endpoint, \u001b[38;5;124m\"\u001b[39m\u001b[38;5;124mSTREAM\u001b[39m\u001b[38;5;124m\"\u001b[39m) \u001b[38;5;129;01mand\u001b[39;00m\n\u001b[1;32m    332\u001b[0m         \u001b[38;5;28mgetattr\u001b[39m(endpoint, \u001b[38;5;124m\"\u001b[39m\u001b[38;5;124mSTREAM\u001b[39m\u001b[38;5;124m\"\u001b[39m) \u001b[38;5;129;01mis\u001b[39;00m \u001b[38;5;28;01mTrue\u001b[39;00m):\n\u001b[1;32m    333\u001b[0m     url \u001b[38;5;241m=\u001b[39m \u001b[38;5;124m\"\u001b[39m\u001b[38;5;132;01m{}\u001b[39;00m\u001b[38;5;124m/\u001b[39m\u001b[38;5;132;01m{}\u001b[39;00m\u001b[38;5;124m\"\u001b[39m\u001b[38;5;241m.\u001b[39mformat(\n\u001b[1;32m    334\u001b[0m         TRADING_ENVIRONMENTS[\u001b[38;5;28mself\u001b[39m\u001b[38;5;241m.\u001b[39menvironment][\u001b[38;5;124m\"\u001b[39m\u001b[38;5;124mapi\u001b[39m\u001b[38;5;124m\"\u001b[39m],\n\u001b[1;32m    335\u001b[0m         endpoint)\n\u001b[0;32m--> 337\u001b[0m     response \u001b[38;5;241m=\u001b[39m \u001b[38;5;28;43mself\u001b[39;49m\u001b[38;5;241;43m.\u001b[39;49m\u001b[43m__request\u001b[49m\u001b[43m(\u001b[49m\u001b[43mmethod\u001b[49m\u001b[43m,\u001b[49m\u001b[43m \u001b[49m\u001b[43murl\u001b[49m\u001b[43m,\u001b[49m\n\u001b[1;32m    338\u001b[0m \u001b[43m                              \u001b[49m\u001b[43mrequest_args\u001b[49m\u001b[43m,\u001b[49m\u001b[43m \u001b[49m\u001b[43mheaders\u001b[49m\u001b[38;5;241;43m=\u001b[39;49m\u001b[43mheaders\u001b[49m\u001b[43m)\u001b[49m\n\u001b[1;32m    339\u001b[0m     content \u001b[38;5;241m=\u001b[39m response\u001b[38;5;241m.\u001b[39mcontent\u001b[38;5;241m.\u001b[39mdecode(\u001b[38;5;124m'\u001b[39m\u001b[38;5;124mutf-8\u001b[39m\u001b[38;5;124m'\u001b[39m)\n\u001b[1;32m    340\u001b[0m     content \u001b[38;5;241m=\u001b[39m json\u001b[38;5;241m.\u001b[39mloads(content)\n",
      "File \u001b[0;32m~/opt/anaconda3/lib/python3.9/site-packages/oandapyV20/oandapyV20.py:266\u001b[0m, in \u001b[0;36mAPI.__request\u001b[0;34m(self, method, url, request_args, headers, stream)\u001b[0m\n\u001b[1;32m    264\u001b[0m \u001b[38;5;28;01mexcept\u001b[39;00m requests\u001b[38;5;241m.\u001b[39mRequestException \u001b[38;5;28;01mas\u001b[39;00m err:\n\u001b[1;32m    265\u001b[0m     logger\u001b[38;5;241m.\u001b[39merror(\u001b[38;5;124m\"\u001b[39m\u001b[38;5;124mrequest \u001b[39m\u001b[38;5;132;01m%s\u001b[39;00m\u001b[38;5;124m failed [\u001b[39m\u001b[38;5;132;01m%s\u001b[39;00m\u001b[38;5;124m]\u001b[39m\u001b[38;5;124m\"\u001b[39m, url, err)\n\u001b[0;32m--> 266\u001b[0m     \u001b[38;5;28;01mraise\u001b[39;00m err\n\u001b[1;32m    268\u001b[0m \u001b[38;5;66;03m# Handle error responses\u001b[39;00m\n\u001b[1;32m    269\u001b[0m \u001b[38;5;28;01mif\u001b[39;00m response\u001b[38;5;241m.\u001b[39mstatus_code \u001b[38;5;241m>\u001b[39m\u001b[38;5;241m=\u001b[39m \u001b[38;5;241m400\u001b[39m:\n",
      "File \u001b[0;32m~/opt/anaconda3/lib/python3.9/site-packages/oandapyV20/oandapyV20.py:262\u001b[0m, in \u001b[0;36mAPI.__request\u001b[0;34m(self, method, url, request_args, headers, stream)\u001b[0m\n\u001b[1;32m    260\u001b[0m \u001b[38;5;28;01mtry\u001b[39;00m:\n\u001b[1;32m    261\u001b[0m     logger\u001b[38;5;241m.\u001b[39minfo(\u001b[38;5;124m\"\u001b[39m\u001b[38;5;124mperforming request \u001b[39m\u001b[38;5;132;01m%s\u001b[39;00m\u001b[38;5;124m\"\u001b[39m, url)\n\u001b[0;32m--> 262\u001b[0m     response \u001b[38;5;241m=\u001b[39m \u001b[43mfunc\u001b[49m\u001b[43m(\u001b[49m\u001b[43murl\u001b[49m\u001b[43m,\u001b[49m\u001b[43m \u001b[49m\u001b[43mstream\u001b[49m\u001b[38;5;241;43m=\u001b[39;49m\u001b[43mstream\u001b[49m\u001b[43m,\u001b[49m\u001b[43m \u001b[49m\u001b[43mheaders\u001b[49m\u001b[38;5;241;43m=\u001b[39;49m\u001b[43mheaders\u001b[49m\u001b[43m,\u001b[49m\n\u001b[1;32m    263\u001b[0m \u001b[43m                    \u001b[49m\u001b[38;5;241;43m*\u001b[39;49m\u001b[38;5;241;43m*\u001b[39;49m\u001b[43mrequest_args\u001b[49m\u001b[43m)\u001b[49m\n\u001b[1;32m    264\u001b[0m \u001b[38;5;28;01mexcept\u001b[39;00m requests\u001b[38;5;241m.\u001b[39mRequestException \u001b[38;5;28;01mas\u001b[39;00m err:\n\u001b[1;32m    265\u001b[0m     logger\u001b[38;5;241m.\u001b[39merror(\u001b[38;5;124m\"\u001b[39m\u001b[38;5;124mrequest \u001b[39m\u001b[38;5;132;01m%s\u001b[39;00m\u001b[38;5;124m failed [\u001b[39m\u001b[38;5;132;01m%s\u001b[39;00m\u001b[38;5;124m]\u001b[39m\u001b[38;5;124m\"\u001b[39m, url, err)\n",
      "File \u001b[0;32m~/opt/anaconda3/lib/python3.9/site-packages/requests/sessions.py:543\u001b[0m, in \u001b[0;36mSession.get\u001b[0;34m(self, url, **kwargs)\u001b[0m\n\u001b[1;32m    535\u001b[0m \u001b[38;5;250m\u001b[39m\u001b[38;5;124mr\u001b[39m\u001b[38;5;124;03m\"\"\"Sends a GET request. Returns :class:`Response` object.\u001b[39;00m\n\u001b[1;32m    536\u001b[0m \n\u001b[1;32m    537\u001b[0m \u001b[38;5;124;03m:param url: URL for the new :class:`Request` object.\u001b[39;00m\n\u001b[1;32m    538\u001b[0m \u001b[38;5;124;03m:param \\*\\*kwargs: Optional arguments that ``request`` takes.\u001b[39;00m\n\u001b[1;32m    539\u001b[0m \u001b[38;5;124;03m:rtype: requests.Response\u001b[39;00m\n\u001b[1;32m    540\u001b[0m \u001b[38;5;124;03m\"\"\"\u001b[39;00m\n\u001b[1;32m    542\u001b[0m kwargs\u001b[38;5;241m.\u001b[39msetdefault(\u001b[38;5;124m'\u001b[39m\u001b[38;5;124mallow_redirects\u001b[39m\u001b[38;5;124m'\u001b[39m, \u001b[38;5;28;01mTrue\u001b[39;00m)\n\u001b[0;32m--> 543\u001b[0m \u001b[38;5;28;01mreturn\u001b[39;00m \u001b[38;5;28;43mself\u001b[39;49m\u001b[38;5;241;43m.\u001b[39;49m\u001b[43mrequest\u001b[49m\u001b[43m(\u001b[49m\u001b[38;5;124;43m'\u001b[39;49m\u001b[38;5;124;43mGET\u001b[39;49m\u001b[38;5;124;43m'\u001b[39;49m\u001b[43m,\u001b[49m\u001b[43m \u001b[49m\u001b[43murl\u001b[49m\u001b[43m,\u001b[49m\u001b[43m \u001b[49m\u001b[38;5;241;43m*\u001b[39;49m\u001b[38;5;241;43m*\u001b[39;49m\u001b[43mkwargs\u001b[49m\u001b[43m)\u001b[49m\n",
      "File \u001b[0;32m~/opt/anaconda3/lib/python3.9/site-packages/requests/sessions.py:530\u001b[0m, in \u001b[0;36mSession.request\u001b[0;34m(self, method, url, params, data, headers, cookies, files, auth, timeout, allow_redirects, proxies, hooks, stream, verify, cert, json)\u001b[0m\n\u001b[1;32m    525\u001b[0m send_kwargs \u001b[38;5;241m=\u001b[39m {\n\u001b[1;32m    526\u001b[0m     \u001b[38;5;124m'\u001b[39m\u001b[38;5;124mtimeout\u001b[39m\u001b[38;5;124m'\u001b[39m: timeout,\n\u001b[1;32m    527\u001b[0m     \u001b[38;5;124m'\u001b[39m\u001b[38;5;124mallow_redirects\u001b[39m\u001b[38;5;124m'\u001b[39m: allow_redirects,\n\u001b[1;32m    528\u001b[0m }\n\u001b[1;32m    529\u001b[0m send_kwargs\u001b[38;5;241m.\u001b[39mupdate(settings)\n\u001b[0;32m--> 530\u001b[0m resp \u001b[38;5;241m=\u001b[39m \u001b[38;5;28;43mself\u001b[39;49m\u001b[38;5;241;43m.\u001b[39;49m\u001b[43msend\u001b[49m\u001b[43m(\u001b[49m\u001b[43mprep\u001b[49m\u001b[43m,\u001b[49m\u001b[43m \u001b[49m\u001b[38;5;241;43m*\u001b[39;49m\u001b[38;5;241;43m*\u001b[39;49m\u001b[43msend_kwargs\u001b[49m\u001b[43m)\u001b[49m\n\u001b[1;32m    532\u001b[0m \u001b[38;5;28;01mreturn\u001b[39;00m resp\n",
      "File \u001b[0;32m~/opt/anaconda3/lib/python3.9/site-packages/requests/sessions.py:643\u001b[0m, in \u001b[0;36mSession.send\u001b[0;34m(self, request, **kwargs)\u001b[0m\n\u001b[1;32m    640\u001b[0m start \u001b[38;5;241m=\u001b[39m preferred_clock()\n\u001b[1;32m    642\u001b[0m \u001b[38;5;66;03m# Send the request\u001b[39;00m\n\u001b[0;32m--> 643\u001b[0m r \u001b[38;5;241m=\u001b[39m \u001b[43madapter\u001b[49m\u001b[38;5;241;43m.\u001b[39;49m\u001b[43msend\u001b[49m\u001b[43m(\u001b[49m\u001b[43mrequest\u001b[49m\u001b[43m,\u001b[49m\u001b[43m \u001b[49m\u001b[38;5;241;43m*\u001b[39;49m\u001b[38;5;241;43m*\u001b[39;49m\u001b[43mkwargs\u001b[49m\u001b[43m)\u001b[49m\n\u001b[1;32m    645\u001b[0m \u001b[38;5;66;03m# Total elapsed time of the request (approximately)\u001b[39;00m\n\u001b[1;32m    646\u001b[0m elapsed \u001b[38;5;241m=\u001b[39m preferred_clock() \u001b[38;5;241m-\u001b[39m start\n",
      "File \u001b[0;32m~/opt/anaconda3/lib/python3.9/site-packages/requests/adapters.py:498\u001b[0m, in \u001b[0;36mHTTPAdapter.send\u001b[0;34m(self, request, stream, timeout, verify, cert, proxies)\u001b[0m\n\u001b[1;32m    495\u001b[0m             \u001b[38;5;28;01mraise\u001b[39;00m\n\u001b[1;32m    497\u001b[0m \u001b[38;5;28;01mexcept\u001b[39;00m (ProtocolError, socket\u001b[38;5;241m.\u001b[39merror) \u001b[38;5;28;01mas\u001b[39;00m err:\n\u001b[0;32m--> 498\u001b[0m     \u001b[38;5;28;01mraise\u001b[39;00m \u001b[38;5;167;01mConnectionError\u001b[39;00m(err, request\u001b[38;5;241m=\u001b[39mrequest)\n\u001b[1;32m    500\u001b[0m \u001b[38;5;28;01mexcept\u001b[39;00m MaxRetryError \u001b[38;5;28;01mas\u001b[39;00m e:\n\u001b[1;32m    501\u001b[0m     \u001b[38;5;28;01mif\u001b[39;00m \u001b[38;5;28misinstance\u001b[39m(e\u001b[38;5;241m.\u001b[39mreason, ConnectTimeoutError):\n\u001b[1;32m    502\u001b[0m         \u001b[38;5;66;03m# TODO: Remove this in 3.0.0: see #2811\u001b[39;00m\n",
      "\u001b[0;31mConnectionError\u001b[0m: ('Connection aborted.', ConnectionResetError(54, 'Connection reset by peer'))"
     ]
    }
   ],
   "source": [
    "# execute the fourth window\n",
    "while dt.datetime.now() < fourth_execution_start_time:\n",
    "    time.sleep(1)\n",
    "\n",
    "batch4_prices = []  # create a list to store the prices\n",
    "\n",
    "while dt.datetime.now() >= fourth_execution_start_time and dt.datetime.now() <= fourth_execution_end_time:\n",
    "    # recalculate the number of units to be executed\n",
    "    order_quantity = int((non_executed_quantity3 + (total_order_quantity * 0.3)) / 30)\n",
    "    for i in range(30): # 30 iterations to execute every 6 minutes\n",
    "        if current_executed_quantity < total_order_quantity:\n",
    "            if get_rate() <= average_execution_price3:\n",
    "                response = execute_order(order_quantity, batch4_prices)\n",
    "                current_executed_quantity += order_quantity\n",
    "            else:\n",
    "                print(\"Price is more than average price\")\n",
    "        else:\n",
    "            break\n",
    "        time.sleep(360) # wait for 6 minutes between orders\n",
    "        print(\"Successful execution for\", i, \"th interval\")"
   ]
  },
  {
   "cell_type": "code",
   "execution_count": 33,
   "id": "85e864dd-e5cc-41ca-a6d6-577eaae0bfb9",
   "metadata": {},
   "outputs": [],
   "source": [
    "# convert the list of prices into a DataFrame\n",
    "df4 = pd.DataFrame(batch4_prices)"
   ]
  },
  {
   "cell_type": "code",
   "execution_count": 34,
   "id": "e756597b-2ff7-404c-b318-086ee5e8da06",
   "metadata": {},
   "outputs": [
    {
     "data": {
      "text/html": [
       "<div>\n",
       "<style scoped>\n",
       "    .dataframe tbody tr th:only-of-type {\n",
       "        vertical-align: middle;\n",
       "    }\n",
       "\n",
       "    .dataframe tbody tr th {\n",
       "        vertical-align: top;\n",
       "    }\n",
       "\n",
       "    .dataframe thead th {\n",
       "        text-align: right;\n",
       "    }\n",
       "</style>\n",
       "<table border=\"1\" class=\"dataframe\">\n",
       "  <thead>\n",
       "    <tr style=\"text-align: right;\">\n",
       "      <th></th>\n",
       "    </tr>\n",
       "  </thead>\n",
       "  <tbody>\n",
       "  </tbody>\n",
       "</table>\n",
       "</div>"
      ],
      "text/plain": [
       "Empty DataFrame\n",
       "Columns: []\n",
       "Index: []"
      ]
     },
     "execution_count": 34,
     "metadata": {},
     "output_type": "execute_result"
    }
   ],
   "source": [
    "df4"
   ]
  },
  {
   "cell_type": "code",
   "execution_count": 35,
   "id": "13c241a1-7d45-4230-946d-e1077cd049d7",
   "metadata": {},
   "outputs": [],
   "source": [
    "# concatenate the two dataframes vertically\n",
    "final_df = pd.concat([updated_df, df4], axis=0)"
   ]
  },
  {
   "cell_type": "code",
   "execution_count": 36,
   "id": "91d1cc4d-5aa4-415d-9fe3-f470d068a4bc",
   "metadata": {},
   "outputs": [
    {
     "data": {
      "text/plain": [
       "1.3591310526315787"
      ]
     },
     "execution_count": 36,
     "metadata": {},
     "output_type": "execute_result"
    }
   ],
   "source": [
    "# calculate the total average execution price\n",
    "average_execution_price4 = updated_df['Price'].sum() / len(updated_df)\n",
    "\n",
    "average_execution_price4"
   ]
  },
  {
   "cell_type": "code",
   "execution_count": 37,
   "id": "9dfcb83d-40a3-44f8-b20f-49b08cedd36d",
   "metadata": {},
   "outputs": [
    {
     "data": {
      "text/plain": [
       "200000"
      ]
     },
     "execution_count": 37,
     "metadata": {},
     "output_type": "execute_result"
    }
   ],
   "source": [
    "current_executed_quantity"
   ]
  },
  {
   "cell_type": "code",
   "execution_count": 38,
   "id": "2cc84f34-2a46-4b86-a6a6-79e5aa1dbea2",
   "metadata": {},
   "outputs": [
    {
     "data": {
      "text/plain": [
       "800000"
      ]
     },
     "execution_count": 38,
     "metadata": {},
     "output_type": "execute_result"
    }
   ],
   "source": [
    "non_executed_quantity_final = total_order_quantity - current_executed_quantity\n",
    "\n",
    "non_executed_quantity_final"
   ]
  },
  {
   "cell_type": "code",
   "execution_count": 39,
   "id": "d9d7bcb7-2fac-4f12-ae2e-be15b07d3888",
   "metadata": {},
   "outputs": [],
   "source": [
    "df4.to_csv(\"Short_Interval_4.csv\", index=False)"
   ]
  },
  {
   "cell_type": "code",
   "execution_count": 40,
   "id": "8786ba2a-8636-4267-9ad8-93b01d9e74e8",
   "metadata": {},
   "outputs": [],
   "source": [
    "final_df.to_csv(\"Short_Final_Executed_Data.csv\", index=False)"
   ]
  },
  {
   "cell_type": "markdown",
   "id": "a24aba1d-8a3d-47c0-8feb-d1b70866856f",
   "metadata": {},
   "source": [
    "# Generating Output CSV File"
   ]
  },
  {
   "cell_type": "code",
   "execution_count": 45,
   "id": "40e10859-82e9-4054-8c5f-ada5e22854ca",
   "metadata": {},
   "outputs": [],
   "source": [
    "# Create a dictionary with your data\n",
    "data = {'Interval': ['Interval 1', 'Interval 2', 'Interval 3', 'Interval 4'],\n",
    "        'Executed Quantity': [200000, 0, 0, 0], \n",
    "        'Percentage of Executed Quantity': [100, 0, 0, 0],\n",
    "        'Non Executed Quantity': [0, 300000, 200000, 300000],\n",
    "        'Percentage of Non Executed Quantity': [0, 100, 100, 100]}\n",
    "\n",
    "# Create a Pandas DataFrame from the dictionary\n",
    "df = pd.DataFrame(data)\n",
    "\n",
    "# Add some sample data for the last three columns\n",
    "df['Average Execution Price'] = [average_execution_price1, average_execution_price2, average_execution_price3, average_execution_price4]\n",
    "\n",
    "# select columns to sum\n",
    "sum_cols = ['Executed Quantity', 'Non Executed Quantity']\n",
    "\n",
    "# select last column to calculate average\n",
    "avg_col = 'Average Execution Price'\n",
    "\n",
    "# calculate the total and average values\n",
    "total = df[sum_cols].sum()\n",
    "average = df[avg_col].mean()\n",
    "\n",
    "# create a new row with the calculated values\n",
    "new_row = pd.DataFrame({\"Interval\": \"Total Vectors\",\n",
    "                        'Executed Quantity': [total['Executed Quantity']], \n",
    "                        'Percentage of Executed Quantity': int(total['Executed Quantity'] / 1000000 * 100),\n",
    "                        'Non Executed Quantity': [total['Non Executed Quantity']],\n",
    "                        'Percentage of Non Executed Quantity': int(total['Non Executed Quantity'] / 1000000 * 100),\n",
    "                        'Average Execution Price': [average] })\n",
    "\n",
    "# concatenate the original DataFrame with the new row\n",
    "df = pd.concat([df, new_row])\n",
    "\n",
    "# reset the index\n",
    "df = df.reset_index(drop=True)\n",
    "\n",
    "# Convert the DataFrame to a CSV file\n",
    "df.to_csv('Short - Execution Output Vectors.csv', index=False)"
   ]
  }
 ],
 "metadata": {
  "kernelspec": {
   "display_name": "Python 3 (ipykernel)",
   "language": "python",
   "name": "python3"
  },
  "language_info": {
   "codemirror_mode": {
    "name": "ipython",
    "version": 3
   },
   "file_extension": ".py",
   "mimetype": "text/x-python",
   "name": "python",
   "nbconvert_exporter": "python",
   "pygments_lexer": "ipython3",
   "version": "3.9.13"
  }
 },
 "nbformat": 4,
 "nbformat_minor": 5
}
